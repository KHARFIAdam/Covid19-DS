{
 "cells": [
  {
   "cell_type": "code",
   "execution_count": 4,
   "id": "initial_id",
   "metadata": {
    "collapsed": true,
    "ExecuteTime": {
     "end_time": "2024-03-05T17:01:06.569651200Z",
     "start_time": "2024-03-05T17:01:06.541656700Z"
    }
   },
   "outputs": [],
   "source": [
    "import numpy as np\n",
    "import pandas as pd"
   ]
  },
  {
   "cell_type": "code",
   "outputs": [
    {
     "name": "stdout",
     "output_type": "stream",
     "text": [
      "(276, 498)\n",
      "(276, 498)\n",
      "(261, 498)\n"
     ]
    }
   ],
   "source": [
    "dataset_path = \"./datas/\"\n",
    "\n",
    "df_conf = pd.read_csv(dataset_path + \"time_series_covid_19_confirmed.csv\")\n",
    "df_deaths = pd.read_csv(dataset_path + \"time_series_covid_19_deaths.csv\")\n",
    "df_recovered = pd.read_csv(dataset_path + \"time_series_covid_19_recovered.csv\")\n",
    "\n",
    "print(df_conf.shape)\n",
    "print(df_deaths.shape)\n",
    "print(df_recovered.shape)"
   ],
   "metadata": {
    "collapsed": false,
    "ExecuteTime": {
     "end_time": "2024-03-05T17:01:06.635602200Z",
     "start_time": "2024-03-05T17:01:06.565665700Z"
    }
   },
   "id": "a2f3f74d65ba2271",
   "execution_count": 5
  },
  {
   "cell_type": "code",
   "outputs": [
    {
     "data": {
      "text/plain": "    Province/State      Country/Region        Lat        Long  1/22/20  \\\n0              NaN         Afghanistan  33.939110   67.709953        0   \n1              NaN             Albania  41.153300   20.168300        0   \n2              NaN             Algeria  28.033900    1.659600        0   \n3              NaN             Andorra  42.506300    1.521800        0   \n4              NaN              Angola -11.202700   17.873900        0   \n..             ...                 ...        ...         ...      ...   \n271            NaN             Vietnam  14.058324  108.277199        0   \n272            NaN  West Bank and Gaza  31.952200   35.233200        0   \n273            NaN               Yemen  15.552727   48.516388        0   \n274            NaN              Zambia -13.133897   27.849332        0   \n275            NaN            Zimbabwe -19.015438   29.154857        0   \n\n     1/23/20  1/24/20  1/25/20  1/26/20  1/27/20  ...  5/20/21  5/21/21  \\\n0          0        0        0        0        0  ...    64575    65080   \n1          0        0        0        0        0  ...   132118   132153   \n2          0        0        0        0        0  ...   126156   126434   \n3          0        0        0        0        0  ...    13569    13569   \n4          0        0        0        0        0  ...    31661    31909   \n..       ...      ...      ...      ...      ...  ...      ...      ...   \n271        2        2        2        2        2  ...     4809     4941   \n272        0        0        0        0        0  ...   304532   304968   \n273        0        0        0        0        0  ...     6613     6632   \n274        0        0        0        0        0  ...    92754    92920   \n275        0        0        0        0        0  ...    38635    38664   \n\n     5/22/21  5/23/21  5/24/21  5/25/21  5/26/21  5/27/21  5/28/21  5/29/21  \n0      65486    65728    66275    66903    67743    68366    69130    70111  \n1     132176   132209   132215   132229   132244   132264   132285   132297  \n2     126651   126860   127107   127361   127646   127926   128198   128456  \n3      13569    13569    13569    13664    13671    13682    13693    13693  \n4      32149    32441    32623    32933    33338    33607    33944    34180  \n..       ...      ...      ...      ...      ...      ...      ...      ...  \n271     5119     5275     5404     5931     6086     6356     6396     6908  \n272   305201   305201   305777   306334   306795   306795   307569   307838  \n273     6649     6658     6662     6670     6688     6696     6723     6731  \n274    93106    93201    93279    93428    93627    93947    94430    94751  \n275    38679    38682    38696    38706    38819    38854    38918    38933  \n\n[276 rows x 498 columns]",
      "text/html": "<div>\n<style scoped>\n    .dataframe tbody tr th:only-of-type {\n        vertical-align: middle;\n    }\n\n    .dataframe tbody tr th {\n        vertical-align: top;\n    }\n\n    .dataframe thead th {\n        text-align: right;\n    }\n</style>\n<table border=\"1\" class=\"dataframe\">\n  <thead>\n    <tr style=\"text-align: right;\">\n      <th></th>\n      <th>Province/State</th>\n      <th>Country/Region</th>\n      <th>Lat</th>\n      <th>Long</th>\n      <th>1/22/20</th>\n      <th>1/23/20</th>\n      <th>1/24/20</th>\n      <th>1/25/20</th>\n      <th>1/26/20</th>\n      <th>1/27/20</th>\n      <th>...</th>\n      <th>5/20/21</th>\n      <th>5/21/21</th>\n      <th>5/22/21</th>\n      <th>5/23/21</th>\n      <th>5/24/21</th>\n      <th>5/25/21</th>\n      <th>5/26/21</th>\n      <th>5/27/21</th>\n      <th>5/28/21</th>\n      <th>5/29/21</th>\n    </tr>\n  </thead>\n  <tbody>\n    <tr>\n      <th>0</th>\n      <td>NaN</td>\n      <td>Afghanistan</td>\n      <td>33.939110</td>\n      <td>67.709953</td>\n      <td>0</td>\n      <td>0</td>\n      <td>0</td>\n      <td>0</td>\n      <td>0</td>\n      <td>0</td>\n      <td>...</td>\n      <td>64575</td>\n      <td>65080</td>\n      <td>65486</td>\n      <td>65728</td>\n      <td>66275</td>\n      <td>66903</td>\n      <td>67743</td>\n      <td>68366</td>\n      <td>69130</td>\n      <td>70111</td>\n    </tr>\n    <tr>\n      <th>1</th>\n      <td>NaN</td>\n      <td>Albania</td>\n      <td>41.153300</td>\n      <td>20.168300</td>\n      <td>0</td>\n      <td>0</td>\n      <td>0</td>\n      <td>0</td>\n      <td>0</td>\n      <td>0</td>\n      <td>...</td>\n      <td>132118</td>\n      <td>132153</td>\n      <td>132176</td>\n      <td>132209</td>\n      <td>132215</td>\n      <td>132229</td>\n      <td>132244</td>\n      <td>132264</td>\n      <td>132285</td>\n      <td>132297</td>\n    </tr>\n    <tr>\n      <th>2</th>\n      <td>NaN</td>\n      <td>Algeria</td>\n      <td>28.033900</td>\n      <td>1.659600</td>\n      <td>0</td>\n      <td>0</td>\n      <td>0</td>\n      <td>0</td>\n      <td>0</td>\n      <td>0</td>\n      <td>...</td>\n      <td>126156</td>\n      <td>126434</td>\n      <td>126651</td>\n      <td>126860</td>\n      <td>127107</td>\n      <td>127361</td>\n      <td>127646</td>\n      <td>127926</td>\n      <td>128198</td>\n      <td>128456</td>\n    </tr>\n    <tr>\n      <th>3</th>\n      <td>NaN</td>\n      <td>Andorra</td>\n      <td>42.506300</td>\n      <td>1.521800</td>\n      <td>0</td>\n      <td>0</td>\n      <td>0</td>\n      <td>0</td>\n      <td>0</td>\n      <td>0</td>\n      <td>...</td>\n      <td>13569</td>\n      <td>13569</td>\n      <td>13569</td>\n      <td>13569</td>\n      <td>13569</td>\n      <td>13664</td>\n      <td>13671</td>\n      <td>13682</td>\n      <td>13693</td>\n      <td>13693</td>\n    </tr>\n    <tr>\n      <th>4</th>\n      <td>NaN</td>\n      <td>Angola</td>\n      <td>-11.202700</td>\n      <td>17.873900</td>\n      <td>0</td>\n      <td>0</td>\n      <td>0</td>\n      <td>0</td>\n      <td>0</td>\n      <td>0</td>\n      <td>...</td>\n      <td>31661</td>\n      <td>31909</td>\n      <td>32149</td>\n      <td>32441</td>\n      <td>32623</td>\n      <td>32933</td>\n      <td>33338</td>\n      <td>33607</td>\n      <td>33944</td>\n      <td>34180</td>\n    </tr>\n    <tr>\n      <th>...</th>\n      <td>...</td>\n      <td>...</td>\n      <td>...</td>\n      <td>...</td>\n      <td>...</td>\n      <td>...</td>\n      <td>...</td>\n      <td>...</td>\n      <td>...</td>\n      <td>...</td>\n      <td>...</td>\n      <td>...</td>\n      <td>...</td>\n      <td>...</td>\n      <td>...</td>\n      <td>...</td>\n      <td>...</td>\n      <td>...</td>\n      <td>...</td>\n      <td>...</td>\n      <td>...</td>\n    </tr>\n    <tr>\n      <th>271</th>\n      <td>NaN</td>\n      <td>Vietnam</td>\n      <td>14.058324</td>\n      <td>108.277199</td>\n      <td>0</td>\n      <td>2</td>\n      <td>2</td>\n      <td>2</td>\n      <td>2</td>\n      <td>2</td>\n      <td>...</td>\n      <td>4809</td>\n      <td>4941</td>\n      <td>5119</td>\n      <td>5275</td>\n      <td>5404</td>\n      <td>5931</td>\n      <td>6086</td>\n      <td>6356</td>\n      <td>6396</td>\n      <td>6908</td>\n    </tr>\n    <tr>\n      <th>272</th>\n      <td>NaN</td>\n      <td>West Bank and Gaza</td>\n      <td>31.952200</td>\n      <td>35.233200</td>\n      <td>0</td>\n      <td>0</td>\n      <td>0</td>\n      <td>0</td>\n      <td>0</td>\n      <td>0</td>\n      <td>...</td>\n      <td>304532</td>\n      <td>304968</td>\n      <td>305201</td>\n      <td>305201</td>\n      <td>305777</td>\n      <td>306334</td>\n      <td>306795</td>\n      <td>306795</td>\n      <td>307569</td>\n      <td>307838</td>\n    </tr>\n    <tr>\n      <th>273</th>\n      <td>NaN</td>\n      <td>Yemen</td>\n      <td>15.552727</td>\n      <td>48.516388</td>\n      <td>0</td>\n      <td>0</td>\n      <td>0</td>\n      <td>0</td>\n      <td>0</td>\n      <td>0</td>\n      <td>...</td>\n      <td>6613</td>\n      <td>6632</td>\n      <td>6649</td>\n      <td>6658</td>\n      <td>6662</td>\n      <td>6670</td>\n      <td>6688</td>\n      <td>6696</td>\n      <td>6723</td>\n      <td>6731</td>\n    </tr>\n    <tr>\n      <th>274</th>\n      <td>NaN</td>\n      <td>Zambia</td>\n      <td>-13.133897</td>\n      <td>27.849332</td>\n      <td>0</td>\n      <td>0</td>\n      <td>0</td>\n      <td>0</td>\n      <td>0</td>\n      <td>0</td>\n      <td>...</td>\n      <td>92754</td>\n      <td>92920</td>\n      <td>93106</td>\n      <td>93201</td>\n      <td>93279</td>\n      <td>93428</td>\n      <td>93627</td>\n      <td>93947</td>\n      <td>94430</td>\n      <td>94751</td>\n    </tr>\n    <tr>\n      <th>275</th>\n      <td>NaN</td>\n      <td>Zimbabwe</td>\n      <td>-19.015438</td>\n      <td>29.154857</td>\n      <td>0</td>\n      <td>0</td>\n      <td>0</td>\n      <td>0</td>\n      <td>0</td>\n      <td>0</td>\n      <td>...</td>\n      <td>38635</td>\n      <td>38664</td>\n      <td>38679</td>\n      <td>38682</td>\n      <td>38696</td>\n      <td>38706</td>\n      <td>38819</td>\n      <td>38854</td>\n      <td>38918</td>\n      <td>38933</td>\n    </tr>\n  </tbody>\n</table>\n<p>276 rows × 498 columns</p>\n</div>"
     },
     "execution_count": 6,
     "metadata": {},
     "output_type": "execute_result"
    }
   ],
   "source": [
    "df_conf"
   ],
   "metadata": {
    "collapsed": false,
    "ExecuteTime": {
     "end_time": "2024-03-05T17:01:06.675307900Z",
     "start_time": "2024-03-05T17:01:06.638591900Z"
    }
   },
   "id": "abbaad8c576128f7",
   "execution_count": 6
  },
  {
   "cell_type": "code",
   "outputs": [
    {
     "data": {
      "text/plain": "Index(['Province/State', 'Country/Region', 'Lat', 'Long', '1/22/20', '1/23/20',\n       '1/24/20', '1/25/20', '1/26/20', '1/27/20',\n       ...\n       '5/20/21', '5/21/21', '5/22/21', '5/23/21', '5/24/21', '5/25/21',\n       '5/26/21', '5/27/21', '5/28/21', '5/29/21'],\n      dtype='object', length=498)"
     },
     "execution_count": 7,
     "metadata": {},
     "output_type": "execute_result"
    }
   ],
   "source": [
    "df_conf.columns"
   ],
   "metadata": {
    "collapsed": false,
    "ExecuteTime": {
     "end_time": "2024-03-05T17:01:06.718219200Z",
     "start_time": "2024-03-05T17:01:06.654322400Z"
    }
   },
   "id": "e49913ffb45420af",
   "execution_count": 7
  },
  {
   "cell_type": "code",
   "outputs": [
    {
     "data": {
      "text/plain": "<bound method DataFrame.sum of      Province/State  Country/Region    Lat   Long  1/22/20  1/23/20  1/24/20  \\\n0              True           False  False  False    False    False    False   \n1              True           False  False  False    False    False    False   \n2              True           False  False  False    False    False    False   \n3              True           False  False  False    False    False    False   \n4              True           False  False  False    False    False    False   \n..              ...             ...    ...    ...      ...      ...      ...   \n271            True           False  False  False    False    False    False   \n272            True           False  False  False    False    False    False   \n273            True           False  False  False    False    False    False   \n274            True           False  False  False    False    False    False   \n275            True           False  False  False    False    False    False   \n\n     1/25/20  1/26/20  1/27/20  ...  5/20/21  5/21/21  5/22/21  5/23/21  \\\n0      False    False    False  ...    False    False    False    False   \n1      False    False    False  ...    False    False    False    False   \n2      False    False    False  ...    False    False    False    False   \n3      False    False    False  ...    False    False    False    False   \n4      False    False    False  ...    False    False    False    False   \n..       ...      ...      ...  ...      ...      ...      ...      ...   \n271    False    False    False  ...    False    False    False    False   \n272    False    False    False  ...    False    False    False    False   \n273    False    False    False  ...    False    False    False    False   \n274    False    False    False  ...    False    False    False    False   \n275    False    False    False  ...    False    False    False    False   \n\n     5/24/21  5/25/21  5/26/21  5/27/21  5/28/21  5/29/21  \n0      False    False    False    False    False    False  \n1      False    False    False    False    False    False  \n2      False    False    False    False    False    False  \n3      False    False    False    False    False    False  \n4      False    False    False    False    False    False  \n..       ...      ...      ...      ...      ...      ...  \n271    False    False    False    False    False    False  \n272    False    False    False    False    False    False  \n273    False    False    False    False    False    False  \n274    False    False    False    False    False    False  \n275    False    False    False    False    False    False  \n\n[276 rows x 498 columns]>"
     },
     "execution_count": 8,
     "metadata": {},
     "output_type": "execute_result"
    }
   ],
   "source": [
    "df_conf.isnull().sum"
   ],
   "metadata": {
    "collapsed": false,
    "ExecuteTime": {
     "end_time": "2024-03-05T17:01:06.721189200Z",
     "start_time": "2024-03-05T17:01:06.663222400Z"
    }
   },
   "id": "c671ca0142dbc2a6",
   "execution_count": 8
  },
  {
   "cell_type": "code",
   "outputs": [
    {
     "data": {
      "text/plain": "    Province/State      Country/Region        Lat        Long  1/22/20  \\\n0              NaN         Afghanistan  33.939110   67.709953        0   \n1              NaN             Albania  41.153300   20.168300        0   \n2              NaN             Algeria  28.033900    1.659600        0   \n3              NaN             Andorra  42.506300    1.521800        0   \n4              NaN              Angola -11.202700   17.873900        0   \n..             ...                 ...        ...         ...      ...   \n271            NaN             Vietnam  14.058324  108.277199        0   \n272            NaN  West Bank and Gaza  31.952200   35.233200        0   \n273            NaN               Yemen  15.552727   48.516388        0   \n274            NaN              Zambia -13.133897   27.849332        0   \n275            NaN            Zimbabwe -19.015438   29.154857        0   \n\n     1/23/20  1/24/20  1/25/20  1/26/20  1/27/20  ...  5/20/21  5/21/21  \\\n0          0        0        0        0        0  ...     2772     2782   \n1          0        0        0        0        0  ...     2440     2441   \n2          0        0        0        0        0  ...     3401     3405   \n3          0        0        0        0        0  ...      127      127   \n4          0        0        0        0        0  ...      704      709   \n..       ...      ...      ...      ...      ...  ...      ...      ...   \n271        0        0        0        0        0  ...       39       41   \n272        0        0        0        0        0  ...     3448     3452   \n273        0        0        0        0        0  ...     1301     1302   \n274        0        0        0        0        0  ...     1265     1266   \n275        0        0        0        0        0  ...     1585     1586   \n\n     5/22/21  5/23/21  5/24/21  5/25/21  5/26/21  5/27/21  5/28/21  5/29/21  \n0       2792     2802     2812     2836     2855     2869     2881     2899  \n1       2442     2444     2445     2447     2447     2447     2448     2449  \n2       3411     3418     3426     3433     3440     3448     3455     3460  \n3        127      127      127      127      127      127      127      127  \n4        715      725      731      735      742      745      749      757  \n..       ...      ...      ...      ...      ...      ...      ...      ...  \n271       42       43       44       44       45       46       47       47  \n272     3459     3459     3470     3480     3483     3483     3489     3492  \n273     1304     1307     1310     1311     1313     1315     1316     1319  \n274     1267     1268     1271     1271     1273     1275     1275     1276  \n275     1586     1586     1586     1587     1589     1592     1592     1594  \n\n[276 rows x 498 columns]",
      "text/html": "<div>\n<style scoped>\n    .dataframe tbody tr th:only-of-type {\n        vertical-align: middle;\n    }\n\n    .dataframe tbody tr th {\n        vertical-align: top;\n    }\n\n    .dataframe thead th {\n        text-align: right;\n    }\n</style>\n<table border=\"1\" class=\"dataframe\">\n  <thead>\n    <tr style=\"text-align: right;\">\n      <th></th>\n      <th>Province/State</th>\n      <th>Country/Region</th>\n      <th>Lat</th>\n      <th>Long</th>\n      <th>1/22/20</th>\n      <th>1/23/20</th>\n      <th>1/24/20</th>\n      <th>1/25/20</th>\n      <th>1/26/20</th>\n      <th>1/27/20</th>\n      <th>...</th>\n      <th>5/20/21</th>\n      <th>5/21/21</th>\n      <th>5/22/21</th>\n      <th>5/23/21</th>\n      <th>5/24/21</th>\n      <th>5/25/21</th>\n      <th>5/26/21</th>\n      <th>5/27/21</th>\n      <th>5/28/21</th>\n      <th>5/29/21</th>\n    </tr>\n  </thead>\n  <tbody>\n    <tr>\n      <th>0</th>\n      <td>NaN</td>\n      <td>Afghanistan</td>\n      <td>33.939110</td>\n      <td>67.709953</td>\n      <td>0</td>\n      <td>0</td>\n      <td>0</td>\n      <td>0</td>\n      <td>0</td>\n      <td>0</td>\n      <td>...</td>\n      <td>2772</td>\n      <td>2782</td>\n      <td>2792</td>\n      <td>2802</td>\n      <td>2812</td>\n      <td>2836</td>\n      <td>2855</td>\n      <td>2869</td>\n      <td>2881</td>\n      <td>2899</td>\n    </tr>\n    <tr>\n      <th>1</th>\n      <td>NaN</td>\n      <td>Albania</td>\n      <td>41.153300</td>\n      <td>20.168300</td>\n      <td>0</td>\n      <td>0</td>\n      <td>0</td>\n      <td>0</td>\n      <td>0</td>\n      <td>0</td>\n      <td>...</td>\n      <td>2440</td>\n      <td>2441</td>\n      <td>2442</td>\n      <td>2444</td>\n      <td>2445</td>\n      <td>2447</td>\n      <td>2447</td>\n      <td>2447</td>\n      <td>2448</td>\n      <td>2449</td>\n    </tr>\n    <tr>\n      <th>2</th>\n      <td>NaN</td>\n      <td>Algeria</td>\n      <td>28.033900</td>\n      <td>1.659600</td>\n      <td>0</td>\n      <td>0</td>\n      <td>0</td>\n      <td>0</td>\n      <td>0</td>\n      <td>0</td>\n      <td>...</td>\n      <td>3401</td>\n      <td>3405</td>\n      <td>3411</td>\n      <td>3418</td>\n      <td>3426</td>\n      <td>3433</td>\n      <td>3440</td>\n      <td>3448</td>\n      <td>3455</td>\n      <td>3460</td>\n    </tr>\n    <tr>\n      <th>3</th>\n      <td>NaN</td>\n      <td>Andorra</td>\n      <td>42.506300</td>\n      <td>1.521800</td>\n      <td>0</td>\n      <td>0</td>\n      <td>0</td>\n      <td>0</td>\n      <td>0</td>\n      <td>0</td>\n      <td>...</td>\n      <td>127</td>\n      <td>127</td>\n      <td>127</td>\n      <td>127</td>\n      <td>127</td>\n      <td>127</td>\n      <td>127</td>\n      <td>127</td>\n      <td>127</td>\n      <td>127</td>\n    </tr>\n    <tr>\n      <th>4</th>\n      <td>NaN</td>\n      <td>Angola</td>\n      <td>-11.202700</td>\n      <td>17.873900</td>\n      <td>0</td>\n      <td>0</td>\n      <td>0</td>\n      <td>0</td>\n      <td>0</td>\n      <td>0</td>\n      <td>...</td>\n      <td>704</td>\n      <td>709</td>\n      <td>715</td>\n      <td>725</td>\n      <td>731</td>\n      <td>735</td>\n      <td>742</td>\n      <td>745</td>\n      <td>749</td>\n      <td>757</td>\n    </tr>\n    <tr>\n      <th>...</th>\n      <td>...</td>\n      <td>...</td>\n      <td>...</td>\n      <td>...</td>\n      <td>...</td>\n      <td>...</td>\n      <td>...</td>\n      <td>...</td>\n      <td>...</td>\n      <td>...</td>\n      <td>...</td>\n      <td>...</td>\n      <td>...</td>\n      <td>...</td>\n      <td>...</td>\n      <td>...</td>\n      <td>...</td>\n      <td>...</td>\n      <td>...</td>\n      <td>...</td>\n      <td>...</td>\n    </tr>\n    <tr>\n      <th>271</th>\n      <td>NaN</td>\n      <td>Vietnam</td>\n      <td>14.058324</td>\n      <td>108.277199</td>\n      <td>0</td>\n      <td>0</td>\n      <td>0</td>\n      <td>0</td>\n      <td>0</td>\n      <td>0</td>\n      <td>...</td>\n      <td>39</td>\n      <td>41</td>\n      <td>42</td>\n      <td>43</td>\n      <td>44</td>\n      <td>44</td>\n      <td>45</td>\n      <td>46</td>\n      <td>47</td>\n      <td>47</td>\n    </tr>\n    <tr>\n      <th>272</th>\n      <td>NaN</td>\n      <td>West Bank and Gaza</td>\n      <td>31.952200</td>\n      <td>35.233200</td>\n      <td>0</td>\n      <td>0</td>\n      <td>0</td>\n      <td>0</td>\n      <td>0</td>\n      <td>0</td>\n      <td>...</td>\n      <td>3448</td>\n      <td>3452</td>\n      <td>3459</td>\n      <td>3459</td>\n      <td>3470</td>\n      <td>3480</td>\n      <td>3483</td>\n      <td>3483</td>\n      <td>3489</td>\n      <td>3492</td>\n    </tr>\n    <tr>\n      <th>273</th>\n      <td>NaN</td>\n      <td>Yemen</td>\n      <td>15.552727</td>\n      <td>48.516388</td>\n      <td>0</td>\n      <td>0</td>\n      <td>0</td>\n      <td>0</td>\n      <td>0</td>\n      <td>0</td>\n      <td>...</td>\n      <td>1301</td>\n      <td>1302</td>\n      <td>1304</td>\n      <td>1307</td>\n      <td>1310</td>\n      <td>1311</td>\n      <td>1313</td>\n      <td>1315</td>\n      <td>1316</td>\n      <td>1319</td>\n    </tr>\n    <tr>\n      <th>274</th>\n      <td>NaN</td>\n      <td>Zambia</td>\n      <td>-13.133897</td>\n      <td>27.849332</td>\n      <td>0</td>\n      <td>0</td>\n      <td>0</td>\n      <td>0</td>\n      <td>0</td>\n      <td>0</td>\n      <td>...</td>\n      <td>1265</td>\n      <td>1266</td>\n      <td>1267</td>\n      <td>1268</td>\n      <td>1271</td>\n      <td>1271</td>\n      <td>1273</td>\n      <td>1275</td>\n      <td>1275</td>\n      <td>1276</td>\n    </tr>\n    <tr>\n      <th>275</th>\n      <td>NaN</td>\n      <td>Zimbabwe</td>\n      <td>-19.015438</td>\n      <td>29.154857</td>\n      <td>0</td>\n      <td>0</td>\n      <td>0</td>\n      <td>0</td>\n      <td>0</td>\n      <td>0</td>\n      <td>...</td>\n      <td>1585</td>\n      <td>1586</td>\n      <td>1586</td>\n      <td>1586</td>\n      <td>1586</td>\n      <td>1587</td>\n      <td>1589</td>\n      <td>1592</td>\n      <td>1592</td>\n      <td>1594</td>\n    </tr>\n  </tbody>\n</table>\n<p>276 rows × 498 columns</p>\n</div>"
     },
     "execution_count": 9,
     "metadata": {},
     "output_type": "execute_result"
    }
   ],
   "source": [
    "df_deaths"
   ],
   "metadata": {
    "collapsed": false,
    "ExecuteTime": {
     "end_time": "2024-03-05T17:01:06.783323500Z",
     "start_time": "2024-03-05T17:01:06.723177300Z"
    }
   },
   "id": "d3b6cbcc34184d7c",
   "execution_count": 9
  },
  {
   "cell_type": "code",
   "outputs": [
    {
     "data": {
      "text/plain": "    Province/State      Country/Region        Lat        Long  1/22/20  \\\n0              NaN         Afghanistan  33.939110   67.709953        0   \n1              NaN             Albania  41.153300   20.168300        0   \n2              NaN             Algeria  28.033900    1.659600        0   \n3              NaN             Andorra  42.506300    1.521800        0   \n4              NaN              Angola -11.202700   17.873900        0   \n..             ...                 ...        ...         ...      ...   \n256            NaN             Vietnam  14.058324  108.277199        0   \n257            NaN  West Bank and Gaza  31.952200   35.233200        0   \n258            NaN               Yemen  15.552727   48.516388        0   \n259            NaN              Zambia -13.133897   27.849332        0   \n260            NaN            Zimbabwe -19.015438   29.154857        0   \n\n     1/23/20  1/24/20  1/25/20  1/26/20  1/27/20  ...  5/20/21  5/21/21  \\\n0          0        0        0        0        0  ...    55687    55790   \n1          0        0        0        0        0  ...   127869   128425   \n2          0        0        0        0        0  ...    87902    88066   \n3          0        0        0        0        0  ...    13234    13234   \n4          0        0        0        0        0  ...    26483    26513   \n..       ...      ...      ...      ...      ...  ...      ...      ...   \n256        0        0        0        0        0  ...     2687     2689   \n257        0        0        0        0        0  ...   295643   296901   \n258        0        0        0        0        0  ...     3159     3179   \n259        0        0        0        0        0  ...    90955    91019   \n260        0        0        0        0        0  ...    36427    36435   \n\n     5/22/21  5/23/21  5/24/21  5/25/21  5/26/21  5/27/21  5/28/21  5/29/21  \n0      55889    56035    56295    56518    56711    56962    57119    57281  \n1     128601   128732   128826   128907   128978   129042   129097   129215  \n2      88208    88346    88497    88672    88861    89040    89232    89419  \n3      13234    13234    13234    13263    13381    13405    13416    13416  \n4      26775    26778    27087    27204    27467    27529    27577    27646  \n..       ...      ...      ...      ...      ...      ...      ...      ...  \n256     2721     2721     2794     2794     2853     2853     2896     2896  \n257   297201   297201   298502   299024   299559   299559   300125   300524  \n258     3201     3245     3260     3273     3306     3339     3375     3399  \n259    91102    91156    91200    91221    91239    91321    91443    91594  \n260    36445    36453    36471    36517    36531    36541    36563    36578  \n\n[261 rows x 498 columns]",
      "text/html": "<div>\n<style scoped>\n    .dataframe tbody tr th:only-of-type {\n        vertical-align: middle;\n    }\n\n    .dataframe tbody tr th {\n        vertical-align: top;\n    }\n\n    .dataframe thead th {\n        text-align: right;\n    }\n</style>\n<table border=\"1\" class=\"dataframe\">\n  <thead>\n    <tr style=\"text-align: right;\">\n      <th></th>\n      <th>Province/State</th>\n      <th>Country/Region</th>\n      <th>Lat</th>\n      <th>Long</th>\n      <th>1/22/20</th>\n      <th>1/23/20</th>\n      <th>1/24/20</th>\n      <th>1/25/20</th>\n      <th>1/26/20</th>\n      <th>1/27/20</th>\n      <th>...</th>\n      <th>5/20/21</th>\n      <th>5/21/21</th>\n      <th>5/22/21</th>\n      <th>5/23/21</th>\n      <th>5/24/21</th>\n      <th>5/25/21</th>\n      <th>5/26/21</th>\n      <th>5/27/21</th>\n      <th>5/28/21</th>\n      <th>5/29/21</th>\n    </tr>\n  </thead>\n  <tbody>\n    <tr>\n      <th>0</th>\n      <td>NaN</td>\n      <td>Afghanistan</td>\n      <td>33.939110</td>\n      <td>67.709953</td>\n      <td>0</td>\n      <td>0</td>\n      <td>0</td>\n      <td>0</td>\n      <td>0</td>\n      <td>0</td>\n      <td>...</td>\n      <td>55687</td>\n      <td>55790</td>\n      <td>55889</td>\n      <td>56035</td>\n      <td>56295</td>\n      <td>56518</td>\n      <td>56711</td>\n      <td>56962</td>\n      <td>57119</td>\n      <td>57281</td>\n    </tr>\n    <tr>\n      <th>1</th>\n      <td>NaN</td>\n      <td>Albania</td>\n      <td>41.153300</td>\n      <td>20.168300</td>\n      <td>0</td>\n      <td>0</td>\n      <td>0</td>\n      <td>0</td>\n      <td>0</td>\n      <td>0</td>\n      <td>...</td>\n      <td>127869</td>\n      <td>128425</td>\n      <td>128601</td>\n      <td>128732</td>\n      <td>128826</td>\n      <td>128907</td>\n      <td>128978</td>\n      <td>129042</td>\n      <td>129097</td>\n      <td>129215</td>\n    </tr>\n    <tr>\n      <th>2</th>\n      <td>NaN</td>\n      <td>Algeria</td>\n      <td>28.033900</td>\n      <td>1.659600</td>\n      <td>0</td>\n      <td>0</td>\n      <td>0</td>\n      <td>0</td>\n      <td>0</td>\n      <td>0</td>\n      <td>...</td>\n      <td>87902</td>\n      <td>88066</td>\n      <td>88208</td>\n      <td>88346</td>\n      <td>88497</td>\n      <td>88672</td>\n      <td>88861</td>\n      <td>89040</td>\n      <td>89232</td>\n      <td>89419</td>\n    </tr>\n    <tr>\n      <th>3</th>\n      <td>NaN</td>\n      <td>Andorra</td>\n      <td>42.506300</td>\n      <td>1.521800</td>\n      <td>0</td>\n      <td>0</td>\n      <td>0</td>\n      <td>0</td>\n      <td>0</td>\n      <td>0</td>\n      <td>...</td>\n      <td>13234</td>\n      <td>13234</td>\n      <td>13234</td>\n      <td>13234</td>\n      <td>13234</td>\n      <td>13263</td>\n      <td>13381</td>\n      <td>13405</td>\n      <td>13416</td>\n      <td>13416</td>\n    </tr>\n    <tr>\n      <th>4</th>\n      <td>NaN</td>\n      <td>Angola</td>\n      <td>-11.202700</td>\n      <td>17.873900</td>\n      <td>0</td>\n      <td>0</td>\n      <td>0</td>\n      <td>0</td>\n      <td>0</td>\n      <td>0</td>\n      <td>...</td>\n      <td>26483</td>\n      <td>26513</td>\n      <td>26775</td>\n      <td>26778</td>\n      <td>27087</td>\n      <td>27204</td>\n      <td>27467</td>\n      <td>27529</td>\n      <td>27577</td>\n      <td>27646</td>\n    </tr>\n    <tr>\n      <th>...</th>\n      <td>...</td>\n      <td>...</td>\n      <td>...</td>\n      <td>...</td>\n      <td>...</td>\n      <td>...</td>\n      <td>...</td>\n      <td>...</td>\n      <td>...</td>\n      <td>...</td>\n      <td>...</td>\n      <td>...</td>\n      <td>...</td>\n      <td>...</td>\n      <td>...</td>\n      <td>...</td>\n      <td>...</td>\n      <td>...</td>\n      <td>...</td>\n      <td>...</td>\n      <td>...</td>\n    </tr>\n    <tr>\n      <th>256</th>\n      <td>NaN</td>\n      <td>Vietnam</td>\n      <td>14.058324</td>\n      <td>108.277199</td>\n      <td>0</td>\n      <td>0</td>\n      <td>0</td>\n      <td>0</td>\n      <td>0</td>\n      <td>0</td>\n      <td>...</td>\n      <td>2687</td>\n      <td>2689</td>\n      <td>2721</td>\n      <td>2721</td>\n      <td>2794</td>\n      <td>2794</td>\n      <td>2853</td>\n      <td>2853</td>\n      <td>2896</td>\n      <td>2896</td>\n    </tr>\n    <tr>\n      <th>257</th>\n      <td>NaN</td>\n      <td>West Bank and Gaza</td>\n      <td>31.952200</td>\n      <td>35.233200</td>\n      <td>0</td>\n      <td>0</td>\n      <td>0</td>\n      <td>0</td>\n      <td>0</td>\n      <td>0</td>\n      <td>...</td>\n      <td>295643</td>\n      <td>296901</td>\n      <td>297201</td>\n      <td>297201</td>\n      <td>298502</td>\n      <td>299024</td>\n      <td>299559</td>\n      <td>299559</td>\n      <td>300125</td>\n      <td>300524</td>\n    </tr>\n    <tr>\n      <th>258</th>\n      <td>NaN</td>\n      <td>Yemen</td>\n      <td>15.552727</td>\n      <td>48.516388</td>\n      <td>0</td>\n      <td>0</td>\n      <td>0</td>\n      <td>0</td>\n      <td>0</td>\n      <td>0</td>\n      <td>...</td>\n      <td>3159</td>\n      <td>3179</td>\n      <td>3201</td>\n      <td>3245</td>\n      <td>3260</td>\n      <td>3273</td>\n      <td>3306</td>\n      <td>3339</td>\n      <td>3375</td>\n      <td>3399</td>\n    </tr>\n    <tr>\n      <th>259</th>\n      <td>NaN</td>\n      <td>Zambia</td>\n      <td>-13.133897</td>\n      <td>27.849332</td>\n      <td>0</td>\n      <td>0</td>\n      <td>0</td>\n      <td>0</td>\n      <td>0</td>\n      <td>0</td>\n      <td>...</td>\n      <td>90955</td>\n      <td>91019</td>\n      <td>91102</td>\n      <td>91156</td>\n      <td>91200</td>\n      <td>91221</td>\n      <td>91239</td>\n      <td>91321</td>\n      <td>91443</td>\n      <td>91594</td>\n    </tr>\n    <tr>\n      <th>260</th>\n      <td>NaN</td>\n      <td>Zimbabwe</td>\n      <td>-19.015438</td>\n      <td>29.154857</td>\n      <td>0</td>\n      <td>0</td>\n      <td>0</td>\n      <td>0</td>\n      <td>0</td>\n      <td>0</td>\n      <td>...</td>\n      <td>36427</td>\n      <td>36435</td>\n      <td>36445</td>\n      <td>36453</td>\n      <td>36471</td>\n      <td>36517</td>\n      <td>36531</td>\n      <td>36541</td>\n      <td>36563</td>\n      <td>36578</td>\n    </tr>\n  </tbody>\n</table>\n<p>261 rows × 498 columns</p>\n</div>"
     },
     "execution_count": 10,
     "metadata": {},
     "output_type": "execute_result"
    }
   ],
   "source": [
    "df_recovered"
   ],
   "metadata": {
    "collapsed": false,
    "ExecuteTime": {
     "end_time": "2024-03-05T17:01:06.872146800Z",
     "start_time": "2024-03-05T17:01:06.755092500Z"
    }
   },
   "id": "5b0d11aa6e097be7",
   "execution_count": 10
  },
  {
   "cell_type": "code",
   "outputs": [],
   "source": [
    "df_conf = df_conf.sort_values(by=[\"Province/State\", \"Country/Region\"])\n",
    "df_conf = df_conf.reset_index(drop=True)"
   ],
   "metadata": {
    "collapsed": false,
    "ExecuteTime": {
     "end_time": "2024-03-05T17:01:06.929035800Z",
     "start_time": "2024-03-05T17:01:06.875096200Z"
    }
   },
   "id": "baa96c722a7bb30e",
   "execution_count": 11
  },
  {
   "cell_type": "code",
   "outputs": [
    {
     "data": {
      "text/plain": "                   Province/State      Country/Region        Lat        Long  \\\n0                         Alberta              Canada  53.933300 -116.576500   \n1                        Anguilla      United Kingdom  18.220600  -63.068600   \n2                           Anhui               China  31.825700  117.226400   \n3                           Aruba         Netherlands  12.521100  -69.968300   \n4    Australian Capital Territory           Australia -35.473500  149.012400   \n..                            ...                 ...        ...         ...   \n271                           NaN             Vietnam  14.058324  108.277199   \n272                           NaN  West Bank and Gaza  31.952200   35.233200   \n273                           NaN               Yemen  15.552727   48.516388   \n274                           NaN              Zambia -13.133897   27.849332   \n275                           NaN            Zimbabwe -19.015438   29.154857   \n\n     1/22/20  1/23/20  1/24/20  1/25/20  1/26/20  1/27/20  ...  5/20/21  \\\n0          0        0        0        0        0        0  ...   222279   \n1          0        0        0        0        0        0  ...      109   \n2          1        9       15       39       60       70  ...     1001   \n3          0        0        0        0        0        0  ...    10892   \n4          0        0        0        0        0        0  ...      124   \n..       ...      ...      ...      ...      ...      ...  ...      ...   \n271        0        2        2        2        2        2  ...     4809   \n272        0        0        0        0        0        0  ...   304532   \n273        0        0        0        0        0        0  ...     6613   \n274        0        0        0        0        0        0  ...    92754   \n275        0        0        0        0        0        0  ...    38635   \n\n     5/21/21  5/22/21  5/23/21  5/24/21  5/25/21  5/26/21  5/27/21  5/28/21  \\\n0     223011   223632   224195   224647   225034   225424   225937   226449   \n1        109      109      109      109      109      109      109      109   \n2       1001     1002     1002     1004     1004     1004     1004     1004   \n3      10902    10915    10917    10922    10936    10951    10957    10969   \n4        124      124      124      124      124      124      124      124   \n..       ...      ...      ...      ...      ...      ...      ...      ...   \n271     4941     5119     5275     5404     5931     6086     6356     6396   \n272   304968   305201   305201   305777   306334   306795   306795   307569   \n273     6632     6649     6658     6662     6670     6688     6696     6723   \n274    92920    93106    93201    93279    93428    93627    93947    94430   \n275    38664    38679    38682    38696    38706    38819    38854    38918   \n\n     5/29/21  \n0     226855  \n1        109  \n2       1004  \n3      10974  \n4        124  \n..       ...  \n271     6908  \n272   307838  \n273     6731  \n274    94751  \n275    38933  \n\n[276 rows x 498 columns]",
      "text/html": "<div>\n<style scoped>\n    .dataframe tbody tr th:only-of-type {\n        vertical-align: middle;\n    }\n\n    .dataframe tbody tr th {\n        vertical-align: top;\n    }\n\n    .dataframe thead th {\n        text-align: right;\n    }\n</style>\n<table border=\"1\" class=\"dataframe\">\n  <thead>\n    <tr style=\"text-align: right;\">\n      <th></th>\n      <th>Province/State</th>\n      <th>Country/Region</th>\n      <th>Lat</th>\n      <th>Long</th>\n      <th>1/22/20</th>\n      <th>1/23/20</th>\n      <th>1/24/20</th>\n      <th>1/25/20</th>\n      <th>1/26/20</th>\n      <th>1/27/20</th>\n      <th>...</th>\n      <th>5/20/21</th>\n      <th>5/21/21</th>\n      <th>5/22/21</th>\n      <th>5/23/21</th>\n      <th>5/24/21</th>\n      <th>5/25/21</th>\n      <th>5/26/21</th>\n      <th>5/27/21</th>\n      <th>5/28/21</th>\n      <th>5/29/21</th>\n    </tr>\n  </thead>\n  <tbody>\n    <tr>\n      <th>0</th>\n      <td>Alberta</td>\n      <td>Canada</td>\n      <td>53.933300</td>\n      <td>-116.576500</td>\n      <td>0</td>\n      <td>0</td>\n      <td>0</td>\n      <td>0</td>\n      <td>0</td>\n      <td>0</td>\n      <td>...</td>\n      <td>222279</td>\n      <td>223011</td>\n      <td>223632</td>\n      <td>224195</td>\n      <td>224647</td>\n      <td>225034</td>\n      <td>225424</td>\n      <td>225937</td>\n      <td>226449</td>\n      <td>226855</td>\n    </tr>\n    <tr>\n      <th>1</th>\n      <td>Anguilla</td>\n      <td>United Kingdom</td>\n      <td>18.220600</td>\n      <td>-63.068600</td>\n      <td>0</td>\n      <td>0</td>\n      <td>0</td>\n      <td>0</td>\n      <td>0</td>\n      <td>0</td>\n      <td>...</td>\n      <td>109</td>\n      <td>109</td>\n      <td>109</td>\n      <td>109</td>\n      <td>109</td>\n      <td>109</td>\n      <td>109</td>\n      <td>109</td>\n      <td>109</td>\n      <td>109</td>\n    </tr>\n    <tr>\n      <th>2</th>\n      <td>Anhui</td>\n      <td>China</td>\n      <td>31.825700</td>\n      <td>117.226400</td>\n      <td>1</td>\n      <td>9</td>\n      <td>15</td>\n      <td>39</td>\n      <td>60</td>\n      <td>70</td>\n      <td>...</td>\n      <td>1001</td>\n      <td>1001</td>\n      <td>1002</td>\n      <td>1002</td>\n      <td>1004</td>\n      <td>1004</td>\n      <td>1004</td>\n      <td>1004</td>\n      <td>1004</td>\n      <td>1004</td>\n    </tr>\n    <tr>\n      <th>3</th>\n      <td>Aruba</td>\n      <td>Netherlands</td>\n      <td>12.521100</td>\n      <td>-69.968300</td>\n      <td>0</td>\n      <td>0</td>\n      <td>0</td>\n      <td>0</td>\n      <td>0</td>\n      <td>0</td>\n      <td>...</td>\n      <td>10892</td>\n      <td>10902</td>\n      <td>10915</td>\n      <td>10917</td>\n      <td>10922</td>\n      <td>10936</td>\n      <td>10951</td>\n      <td>10957</td>\n      <td>10969</td>\n      <td>10974</td>\n    </tr>\n    <tr>\n      <th>4</th>\n      <td>Australian Capital Territory</td>\n      <td>Australia</td>\n      <td>-35.473500</td>\n      <td>149.012400</td>\n      <td>0</td>\n      <td>0</td>\n      <td>0</td>\n      <td>0</td>\n      <td>0</td>\n      <td>0</td>\n      <td>...</td>\n      <td>124</td>\n      <td>124</td>\n      <td>124</td>\n      <td>124</td>\n      <td>124</td>\n      <td>124</td>\n      <td>124</td>\n      <td>124</td>\n      <td>124</td>\n      <td>124</td>\n    </tr>\n    <tr>\n      <th>...</th>\n      <td>...</td>\n      <td>...</td>\n      <td>...</td>\n      <td>...</td>\n      <td>...</td>\n      <td>...</td>\n      <td>...</td>\n      <td>...</td>\n      <td>...</td>\n      <td>...</td>\n      <td>...</td>\n      <td>...</td>\n      <td>...</td>\n      <td>...</td>\n      <td>...</td>\n      <td>...</td>\n      <td>...</td>\n      <td>...</td>\n      <td>...</td>\n      <td>...</td>\n      <td>...</td>\n    </tr>\n    <tr>\n      <th>271</th>\n      <td>NaN</td>\n      <td>Vietnam</td>\n      <td>14.058324</td>\n      <td>108.277199</td>\n      <td>0</td>\n      <td>2</td>\n      <td>2</td>\n      <td>2</td>\n      <td>2</td>\n      <td>2</td>\n      <td>...</td>\n      <td>4809</td>\n      <td>4941</td>\n      <td>5119</td>\n      <td>5275</td>\n      <td>5404</td>\n      <td>5931</td>\n      <td>6086</td>\n      <td>6356</td>\n      <td>6396</td>\n      <td>6908</td>\n    </tr>\n    <tr>\n      <th>272</th>\n      <td>NaN</td>\n      <td>West Bank and Gaza</td>\n      <td>31.952200</td>\n      <td>35.233200</td>\n      <td>0</td>\n      <td>0</td>\n      <td>0</td>\n      <td>0</td>\n      <td>0</td>\n      <td>0</td>\n      <td>...</td>\n      <td>304532</td>\n      <td>304968</td>\n      <td>305201</td>\n      <td>305201</td>\n      <td>305777</td>\n      <td>306334</td>\n      <td>306795</td>\n      <td>306795</td>\n      <td>307569</td>\n      <td>307838</td>\n    </tr>\n    <tr>\n      <th>273</th>\n      <td>NaN</td>\n      <td>Yemen</td>\n      <td>15.552727</td>\n      <td>48.516388</td>\n      <td>0</td>\n      <td>0</td>\n      <td>0</td>\n      <td>0</td>\n      <td>0</td>\n      <td>0</td>\n      <td>...</td>\n      <td>6613</td>\n      <td>6632</td>\n      <td>6649</td>\n      <td>6658</td>\n      <td>6662</td>\n      <td>6670</td>\n      <td>6688</td>\n      <td>6696</td>\n      <td>6723</td>\n      <td>6731</td>\n    </tr>\n    <tr>\n      <th>274</th>\n      <td>NaN</td>\n      <td>Zambia</td>\n      <td>-13.133897</td>\n      <td>27.849332</td>\n      <td>0</td>\n      <td>0</td>\n      <td>0</td>\n      <td>0</td>\n      <td>0</td>\n      <td>0</td>\n      <td>...</td>\n      <td>92754</td>\n      <td>92920</td>\n      <td>93106</td>\n      <td>93201</td>\n      <td>93279</td>\n      <td>93428</td>\n      <td>93627</td>\n      <td>93947</td>\n      <td>94430</td>\n      <td>94751</td>\n    </tr>\n    <tr>\n      <th>275</th>\n      <td>NaN</td>\n      <td>Zimbabwe</td>\n      <td>-19.015438</td>\n      <td>29.154857</td>\n      <td>0</td>\n      <td>0</td>\n      <td>0</td>\n      <td>0</td>\n      <td>0</td>\n      <td>0</td>\n      <td>...</td>\n      <td>38635</td>\n      <td>38664</td>\n      <td>38679</td>\n      <td>38682</td>\n      <td>38696</td>\n      <td>38706</td>\n      <td>38819</td>\n      <td>38854</td>\n      <td>38918</td>\n      <td>38933</td>\n    </tr>\n  </tbody>\n</table>\n<p>276 rows × 498 columns</p>\n</div>"
     },
     "execution_count": 12,
     "metadata": {},
     "output_type": "execute_result"
    }
   ],
   "source": [
    "df_conf"
   ],
   "metadata": {
    "collapsed": false,
    "ExecuteTime": {
     "end_time": "2024-03-05T17:01:07.015064800Z",
     "start_time": "2024-03-05T17:01:06.929035800Z"
    }
   },
   "id": "22f6d76d568d9e4e",
   "execution_count": 12
  },
  {
   "cell_type": "code",
   "outputs": [],
   "source": [
    "df_deaths = df_deaths.sort_values(by=[\"Province/State\", \"Country/Region\"])\n",
    "df_deaths = df_deaths.reset_index(drop=True)"
   ],
   "metadata": {
    "collapsed": false,
    "ExecuteTime": {
     "end_time": "2024-03-05T17:01:07.071216300Z",
     "start_time": "2024-03-05T17:01:07.018064200Z"
    }
   },
   "id": "9137c018e5660978",
   "execution_count": 13
  },
  {
   "cell_type": "code",
   "outputs": [
    {
     "data": {
      "text/plain": "                   Province/State      Country/Region        Lat        Long  \\\n0                         Alberta              Canada  53.933300 -116.576500   \n1                        Anguilla      United Kingdom  18.220600  -63.068600   \n2                           Anhui               China  31.825700  117.226400   \n3                           Aruba         Netherlands  12.521100  -69.968300   \n4    Australian Capital Territory           Australia -35.473500  149.012400   \n..                            ...                 ...        ...         ...   \n271                           NaN             Vietnam  14.058324  108.277199   \n272                           NaN  West Bank and Gaza  31.952200   35.233200   \n273                           NaN               Yemen  15.552727   48.516388   \n274                           NaN              Zambia -13.133897   27.849332   \n275                           NaN            Zimbabwe -19.015438   29.154857   \n\n     1/22/20  1/23/20  1/24/20  1/25/20  1/26/20  1/27/20  ...  5/20/21  \\\n0          0        0        0        0        0        0  ...     2162   \n1          0        0        0        0        0        0  ...        0   \n2          0        0        0        0        0        0  ...        6   \n3          0        0        0        0        0        0  ...      106   \n4          0        0        0        0        0        0  ...        3   \n..       ...      ...      ...      ...      ...      ...  ...      ...   \n271        0        0        0        0        0        0  ...       39   \n272        0        0        0        0        0        0  ...     3448   \n273        0        0        0        0        0        0  ...     1301   \n274        0        0        0        0        0        0  ...     1265   \n275        0        0        0        0        0        0  ...     1585   \n\n     5/21/21  5/22/21  5/23/21  5/24/21  5/25/21  5/26/21  5/27/21  5/28/21  \\\n0       2164     2170     2176     2183     2192     2198     2199     2206   \n1          0        0        0        0        0        0        0        0   \n2          6        6        6        6        6        6        6        6   \n3        106      107      107      107      107      107      107      107   \n4          3        3        3        3        3        3        3        3   \n..       ...      ...      ...      ...      ...      ...      ...      ...   \n271       41       42       43       44       44       45       46       47   \n272     3452     3459     3459     3470     3480     3483     3483     3489   \n273     1302     1304     1307     1310     1311     1313     1315     1316   \n274     1266     1267     1268     1271     1271     1273     1275     1275   \n275     1586     1586     1586     1586     1587     1589     1592     1592   \n\n     5/29/21  \n0       2214  \n1          0  \n2          6  \n3        107  \n4          3  \n..       ...  \n271       47  \n272     3492  \n273     1319  \n274     1276  \n275     1594  \n\n[276 rows x 498 columns]",
      "text/html": "<div>\n<style scoped>\n    .dataframe tbody tr th:only-of-type {\n        vertical-align: middle;\n    }\n\n    .dataframe tbody tr th {\n        vertical-align: top;\n    }\n\n    .dataframe thead th {\n        text-align: right;\n    }\n</style>\n<table border=\"1\" class=\"dataframe\">\n  <thead>\n    <tr style=\"text-align: right;\">\n      <th></th>\n      <th>Province/State</th>\n      <th>Country/Region</th>\n      <th>Lat</th>\n      <th>Long</th>\n      <th>1/22/20</th>\n      <th>1/23/20</th>\n      <th>1/24/20</th>\n      <th>1/25/20</th>\n      <th>1/26/20</th>\n      <th>1/27/20</th>\n      <th>...</th>\n      <th>5/20/21</th>\n      <th>5/21/21</th>\n      <th>5/22/21</th>\n      <th>5/23/21</th>\n      <th>5/24/21</th>\n      <th>5/25/21</th>\n      <th>5/26/21</th>\n      <th>5/27/21</th>\n      <th>5/28/21</th>\n      <th>5/29/21</th>\n    </tr>\n  </thead>\n  <tbody>\n    <tr>\n      <th>0</th>\n      <td>Alberta</td>\n      <td>Canada</td>\n      <td>53.933300</td>\n      <td>-116.576500</td>\n      <td>0</td>\n      <td>0</td>\n      <td>0</td>\n      <td>0</td>\n      <td>0</td>\n      <td>0</td>\n      <td>...</td>\n      <td>2162</td>\n      <td>2164</td>\n      <td>2170</td>\n      <td>2176</td>\n      <td>2183</td>\n      <td>2192</td>\n      <td>2198</td>\n      <td>2199</td>\n      <td>2206</td>\n      <td>2214</td>\n    </tr>\n    <tr>\n      <th>1</th>\n      <td>Anguilla</td>\n      <td>United Kingdom</td>\n      <td>18.220600</td>\n      <td>-63.068600</td>\n      <td>0</td>\n      <td>0</td>\n      <td>0</td>\n      <td>0</td>\n      <td>0</td>\n      <td>0</td>\n      <td>...</td>\n      <td>0</td>\n      <td>0</td>\n      <td>0</td>\n      <td>0</td>\n      <td>0</td>\n      <td>0</td>\n      <td>0</td>\n      <td>0</td>\n      <td>0</td>\n      <td>0</td>\n    </tr>\n    <tr>\n      <th>2</th>\n      <td>Anhui</td>\n      <td>China</td>\n      <td>31.825700</td>\n      <td>117.226400</td>\n      <td>0</td>\n      <td>0</td>\n      <td>0</td>\n      <td>0</td>\n      <td>0</td>\n      <td>0</td>\n      <td>...</td>\n      <td>6</td>\n      <td>6</td>\n      <td>6</td>\n      <td>6</td>\n      <td>6</td>\n      <td>6</td>\n      <td>6</td>\n      <td>6</td>\n      <td>6</td>\n      <td>6</td>\n    </tr>\n    <tr>\n      <th>3</th>\n      <td>Aruba</td>\n      <td>Netherlands</td>\n      <td>12.521100</td>\n      <td>-69.968300</td>\n      <td>0</td>\n      <td>0</td>\n      <td>0</td>\n      <td>0</td>\n      <td>0</td>\n      <td>0</td>\n      <td>...</td>\n      <td>106</td>\n      <td>106</td>\n      <td>107</td>\n      <td>107</td>\n      <td>107</td>\n      <td>107</td>\n      <td>107</td>\n      <td>107</td>\n      <td>107</td>\n      <td>107</td>\n    </tr>\n    <tr>\n      <th>4</th>\n      <td>Australian Capital Territory</td>\n      <td>Australia</td>\n      <td>-35.473500</td>\n      <td>149.012400</td>\n      <td>0</td>\n      <td>0</td>\n      <td>0</td>\n      <td>0</td>\n      <td>0</td>\n      <td>0</td>\n      <td>...</td>\n      <td>3</td>\n      <td>3</td>\n      <td>3</td>\n      <td>3</td>\n      <td>3</td>\n      <td>3</td>\n      <td>3</td>\n      <td>3</td>\n      <td>3</td>\n      <td>3</td>\n    </tr>\n    <tr>\n      <th>...</th>\n      <td>...</td>\n      <td>...</td>\n      <td>...</td>\n      <td>...</td>\n      <td>...</td>\n      <td>...</td>\n      <td>...</td>\n      <td>...</td>\n      <td>...</td>\n      <td>...</td>\n      <td>...</td>\n      <td>...</td>\n      <td>...</td>\n      <td>...</td>\n      <td>...</td>\n      <td>...</td>\n      <td>...</td>\n      <td>...</td>\n      <td>...</td>\n      <td>...</td>\n      <td>...</td>\n    </tr>\n    <tr>\n      <th>271</th>\n      <td>NaN</td>\n      <td>Vietnam</td>\n      <td>14.058324</td>\n      <td>108.277199</td>\n      <td>0</td>\n      <td>0</td>\n      <td>0</td>\n      <td>0</td>\n      <td>0</td>\n      <td>0</td>\n      <td>...</td>\n      <td>39</td>\n      <td>41</td>\n      <td>42</td>\n      <td>43</td>\n      <td>44</td>\n      <td>44</td>\n      <td>45</td>\n      <td>46</td>\n      <td>47</td>\n      <td>47</td>\n    </tr>\n    <tr>\n      <th>272</th>\n      <td>NaN</td>\n      <td>West Bank and Gaza</td>\n      <td>31.952200</td>\n      <td>35.233200</td>\n      <td>0</td>\n      <td>0</td>\n      <td>0</td>\n      <td>0</td>\n      <td>0</td>\n      <td>0</td>\n      <td>...</td>\n      <td>3448</td>\n      <td>3452</td>\n      <td>3459</td>\n      <td>3459</td>\n      <td>3470</td>\n      <td>3480</td>\n      <td>3483</td>\n      <td>3483</td>\n      <td>3489</td>\n      <td>3492</td>\n    </tr>\n    <tr>\n      <th>273</th>\n      <td>NaN</td>\n      <td>Yemen</td>\n      <td>15.552727</td>\n      <td>48.516388</td>\n      <td>0</td>\n      <td>0</td>\n      <td>0</td>\n      <td>0</td>\n      <td>0</td>\n      <td>0</td>\n      <td>...</td>\n      <td>1301</td>\n      <td>1302</td>\n      <td>1304</td>\n      <td>1307</td>\n      <td>1310</td>\n      <td>1311</td>\n      <td>1313</td>\n      <td>1315</td>\n      <td>1316</td>\n      <td>1319</td>\n    </tr>\n    <tr>\n      <th>274</th>\n      <td>NaN</td>\n      <td>Zambia</td>\n      <td>-13.133897</td>\n      <td>27.849332</td>\n      <td>0</td>\n      <td>0</td>\n      <td>0</td>\n      <td>0</td>\n      <td>0</td>\n      <td>0</td>\n      <td>...</td>\n      <td>1265</td>\n      <td>1266</td>\n      <td>1267</td>\n      <td>1268</td>\n      <td>1271</td>\n      <td>1271</td>\n      <td>1273</td>\n      <td>1275</td>\n      <td>1275</td>\n      <td>1276</td>\n    </tr>\n    <tr>\n      <th>275</th>\n      <td>NaN</td>\n      <td>Zimbabwe</td>\n      <td>-19.015438</td>\n      <td>29.154857</td>\n      <td>0</td>\n      <td>0</td>\n      <td>0</td>\n      <td>0</td>\n      <td>0</td>\n      <td>0</td>\n      <td>...</td>\n      <td>1585</td>\n      <td>1586</td>\n      <td>1586</td>\n      <td>1586</td>\n      <td>1586</td>\n      <td>1587</td>\n      <td>1589</td>\n      <td>1592</td>\n      <td>1592</td>\n      <td>1594</td>\n    </tr>\n  </tbody>\n</table>\n<p>276 rows × 498 columns</p>\n</div>"
     },
     "execution_count": 14,
     "metadata": {},
     "output_type": "execute_result"
    }
   ],
   "source": [
    "df_deaths"
   ],
   "metadata": {
    "collapsed": false,
    "ExecuteTime": {
     "end_time": "2024-03-05T17:01:07.124125800Z",
     "start_time": "2024-03-05T17:01:07.042815700Z"
    }
   },
   "id": "b5b43966455f0c49",
   "execution_count": 14
  },
  {
   "cell_type": "code",
   "outputs": [],
   "source": [
    "df_recovered = df_recovered.sort_values(by=[\"Province/State\", \"Country/Region\"])\n",
    "df_recovered = df_recovered.reset_index(drop=True)"
   ],
   "metadata": {
    "collapsed": false,
    "ExecuteTime": {
     "end_time": "2024-03-05T17:01:07.166897200Z",
     "start_time": "2024-03-05T17:01:07.126123700Z"
    }
   },
   "id": "cb56788c3ba3a9a9",
   "execution_count": 15
  },
  {
   "cell_type": "code",
   "outputs": [
    {
     "data": {
      "text/plain": "                   Province/State      Country/Region        Lat        Long  \\\n0                        Anguilla      United Kingdom  18.220600  -63.068600   \n1                           Anhui               China  31.825700  117.226400   \n2                           Aruba         Netherlands  12.521100  -69.968300   \n3    Australian Capital Territory           Australia -35.473500  149.012400   \n4                         Beijing               China  40.182400  116.414200   \n..                            ...                 ...        ...         ...   \n256                           NaN             Vietnam  14.058324  108.277199   \n257                           NaN  West Bank and Gaza  31.952200   35.233200   \n258                           NaN               Yemen  15.552727   48.516388   \n259                           NaN              Zambia -13.133897   27.849332   \n260                           NaN            Zimbabwe -19.015438   29.154857   \n\n     1/22/20  1/23/20  1/24/20  1/25/20  1/26/20  1/27/20  ...  5/20/21  \\\n0          0        0        0        0        0        0  ...      107   \n1          0        0        0        0        0        0  ...      989   \n2          0        0        0        0        0        0  ...    10716   \n3          0        0        0        0        0        0  ...      121   \n4          0        0        1        2        2        2  ...     1046   \n..       ...      ...      ...      ...      ...      ...  ...      ...   \n256        0        0        0        0        0        0  ...     2687   \n257        0        0        0        0        0        0  ...   295643   \n258        0        0        0        0        0        0  ...     3159   \n259        0        0        0        0        0        0  ...    90955   \n260        0        0        0        0        0        0  ...    36427   \n\n     5/21/21  5/22/21  5/23/21  5/24/21  5/25/21  5/26/21  5/27/21  5/28/21  \\\n0        107      107      107      107      107      107      109      109   \n1        989      989      989      989      989      990      992      994   \n2      10728    10738    10743    10746    10758    10767    10780    10790   \n3        121      121      121      121      121      121      121      121   \n4       1046     1046     1046     1046     1046     1046     1046     1046   \n..       ...      ...      ...      ...      ...      ...      ...      ...   \n256     2689     2721     2721     2794     2794     2853     2853     2896   \n257   296901   297201   297201   298502   299024   299559   299559   300125   \n258     3179     3201     3245     3260     3273     3306     3339     3375   \n259    91019    91102    91156    91200    91221    91239    91321    91443   \n260    36435    36445    36453    36471    36517    36531    36541    36563   \n\n     5/29/21  \n0        109  \n1        994  \n2      10803  \n3        121  \n4       1046  \n..       ...  \n256     2896  \n257   300524  \n258     3399  \n259    91594  \n260    36578  \n\n[261 rows x 498 columns]",
      "text/html": "<div>\n<style scoped>\n    .dataframe tbody tr th:only-of-type {\n        vertical-align: middle;\n    }\n\n    .dataframe tbody tr th {\n        vertical-align: top;\n    }\n\n    .dataframe thead th {\n        text-align: right;\n    }\n</style>\n<table border=\"1\" class=\"dataframe\">\n  <thead>\n    <tr style=\"text-align: right;\">\n      <th></th>\n      <th>Province/State</th>\n      <th>Country/Region</th>\n      <th>Lat</th>\n      <th>Long</th>\n      <th>1/22/20</th>\n      <th>1/23/20</th>\n      <th>1/24/20</th>\n      <th>1/25/20</th>\n      <th>1/26/20</th>\n      <th>1/27/20</th>\n      <th>...</th>\n      <th>5/20/21</th>\n      <th>5/21/21</th>\n      <th>5/22/21</th>\n      <th>5/23/21</th>\n      <th>5/24/21</th>\n      <th>5/25/21</th>\n      <th>5/26/21</th>\n      <th>5/27/21</th>\n      <th>5/28/21</th>\n      <th>5/29/21</th>\n    </tr>\n  </thead>\n  <tbody>\n    <tr>\n      <th>0</th>\n      <td>Anguilla</td>\n      <td>United Kingdom</td>\n      <td>18.220600</td>\n      <td>-63.068600</td>\n      <td>0</td>\n      <td>0</td>\n      <td>0</td>\n      <td>0</td>\n      <td>0</td>\n      <td>0</td>\n      <td>...</td>\n      <td>107</td>\n      <td>107</td>\n      <td>107</td>\n      <td>107</td>\n      <td>107</td>\n      <td>107</td>\n      <td>107</td>\n      <td>109</td>\n      <td>109</td>\n      <td>109</td>\n    </tr>\n    <tr>\n      <th>1</th>\n      <td>Anhui</td>\n      <td>China</td>\n      <td>31.825700</td>\n      <td>117.226400</td>\n      <td>0</td>\n      <td>0</td>\n      <td>0</td>\n      <td>0</td>\n      <td>0</td>\n      <td>0</td>\n      <td>...</td>\n      <td>989</td>\n      <td>989</td>\n      <td>989</td>\n      <td>989</td>\n      <td>989</td>\n      <td>989</td>\n      <td>990</td>\n      <td>992</td>\n      <td>994</td>\n      <td>994</td>\n    </tr>\n    <tr>\n      <th>2</th>\n      <td>Aruba</td>\n      <td>Netherlands</td>\n      <td>12.521100</td>\n      <td>-69.968300</td>\n      <td>0</td>\n      <td>0</td>\n      <td>0</td>\n      <td>0</td>\n      <td>0</td>\n      <td>0</td>\n      <td>...</td>\n      <td>10716</td>\n      <td>10728</td>\n      <td>10738</td>\n      <td>10743</td>\n      <td>10746</td>\n      <td>10758</td>\n      <td>10767</td>\n      <td>10780</td>\n      <td>10790</td>\n      <td>10803</td>\n    </tr>\n    <tr>\n      <th>3</th>\n      <td>Australian Capital Territory</td>\n      <td>Australia</td>\n      <td>-35.473500</td>\n      <td>149.012400</td>\n      <td>0</td>\n      <td>0</td>\n      <td>0</td>\n      <td>0</td>\n      <td>0</td>\n      <td>0</td>\n      <td>...</td>\n      <td>121</td>\n      <td>121</td>\n      <td>121</td>\n      <td>121</td>\n      <td>121</td>\n      <td>121</td>\n      <td>121</td>\n      <td>121</td>\n      <td>121</td>\n      <td>121</td>\n    </tr>\n    <tr>\n      <th>4</th>\n      <td>Beijing</td>\n      <td>China</td>\n      <td>40.182400</td>\n      <td>116.414200</td>\n      <td>0</td>\n      <td>0</td>\n      <td>1</td>\n      <td>2</td>\n      <td>2</td>\n      <td>2</td>\n      <td>...</td>\n      <td>1046</td>\n      <td>1046</td>\n      <td>1046</td>\n      <td>1046</td>\n      <td>1046</td>\n      <td>1046</td>\n      <td>1046</td>\n      <td>1046</td>\n      <td>1046</td>\n      <td>1046</td>\n    </tr>\n    <tr>\n      <th>...</th>\n      <td>...</td>\n      <td>...</td>\n      <td>...</td>\n      <td>...</td>\n      <td>...</td>\n      <td>...</td>\n      <td>...</td>\n      <td>...</td>\n      <td>...</td>\n      <td>...</td>\n      <td>...</td>\n      <td>...</td>\n      <td>...</td>\n      <td>...</td>\n      <td>...</td>\n      <td>...</td>\n      <td>...</td>\n      <td>...</td>\n      <td>...</td>\n      <td>...</td>\n      <td>...</td>\n    </tr>\n    <tr>\n      <th>256</th>\n      <td>NaN</td>\n      <td>Vietnam</td>\n      <td>14.058324</td>\n      <td>108.277199</td>\n      <td>0</td>\n      <td>0</td>\n      <td>0</td>\n      <td>0</td>\n      <td>0</td>\n      <td>0</td>\n      <td>...</td>\n      <td>2687</td>\n      <td>2689</td>\n      <td>2721</td>\n      <td>2721</td>\n      <td>2794</td>\n      <td>2794</td>\n      <td>2853</td>\n      <td>2853</td>\n      <td>2896</td>\n      <td>2896</td>\n    </tr>\n    <tr>\n      <th>257</th>\n      <td>NaN</td>\n      <td>West Bank and Gaza</td>\n      <td>31.952200</td>\n      <td>35.233200</td>\n      <td>0</td>\n      <td>0</td>\n      <td>0</td>\n      <td>0</td>\n      <td>0</td>\n      <td>0</td>\n      <td>...</td>\n      <td>295643</td>\n      <td>296901</td>\n      <td>297201</td>\n      <td>297201</td>\n      <td>298502</td>\n      <td>299024</td>\n      <td>299559</td>\n      <td>299559</td>\n      <td>300125</td>\n      <td>300524</td>\n    </tr>\n    <tr>\n      <th>258</th>\n      <td>NaN</td>\n      <td>Yemen</td>\n      <td>15.552727</td>\n      <td>48.516388</td>\n      <td>0</td>\n      <td>0</td>\n      <td>0</td>\n      <td>0</td>\n      <td>0</td>\n      <td>0</td>\n      <td>...</td>\n      <td>3159</td>\n      <td>3179</td>\n      <td>3201</td>\n      <td>3245</td>\n      <td>3260</td>\n      <td>3273</td>\n      <td>3306</td>\n      <td>3339</td>\n      <td>3375</td>\n      <td>3399</td>\n    </tr>\n    <tr>\n      <th>259</th>\n      <td>NaN</td>\n      <td>Zambia</td>\n      <td>-13.133897</td>\n      <td>27.849332</td>\n      <td>0</td>\n      <td>0</td>\n      <td>0</td>\n      <td>0</td>\n      <td>0</td>\n      <td>0</td>\n      <td>...</td>\n      <td>90955</td>\n      <td>91019</td>\n      <td>91102</td>\n      <td>91156</td>\n      <td>91200</td>\n      <td>91221</td>\n      <td>91239</td>\n      <td>91321</td>\n      <td>91443</td>\n      <td>91594</td>\n    </tr>\n    <tr>\n      <th>260</th>\n      <td>NaN</td>\n      <td>Zimbabwe</td>\n      <td>-19.015438</td>\n      <td>29.154857</td>\n      <td>0</td>\n      <td>0</td>\n      <td>0</td>\n      <td>0</td>\n      <td>0</td>\n      <td>0</td>\n      <td>...</td>\n      <td>36427</td>\n      <td>36435</td>\n      <td>36445</td>\n      <td>36453</td>\n      <td>36471</td>\n      <td>36517</td>\n      <td>36531</td>\n      <td>36541</td>\n      <td>36563</td>\n      <td>36578</td>\n    </tr>\n  </tbody>\n</table>\n<p>261 rows × 498 columns</p>\n</div>"
     },
     "execution_count": 16,
     "metadata": {},
     "output_type": "execute_result"
    }
   ],
   "source": [
    "df_recovered"
   ],
   "metadata": {
    "collapsed": false,
    "ExecuteTime": {
     "end_time": "2024-03-05T17:01:07.245800Z",
     "start_time": "2024-03-05T17:01:07.170850400Z"
    }
   },
   "id": "19b57417eac999c4",
   "execution_count": 16
  },
  {
   "cell_type": "code",
   "outputs": [
    {
     "name": "stdout",
     "output_type": "stream",
     "text": [
      "True\n"
     ]
    }
   ],
   "source": [
    "print(df_conf[[\"Province/State\", \"Country/Region\"]].equals(df_deaths[[\"Province/State\", \"Country/Region\"]]))"
   ],
   "metadata": {
    "collapsed": false,
    "ExecuteTime": {
     "end_time": "2024-03-05T17:01:07.299642200Z",
     "start_time": "2024-03-05T17:01:07.247792500Z"
    }
   },
   "id": "af9d5662ec8e7b72",
   "execution_count": 17
  },
  {
   "cell_type": "code",
   "outputs": [
    {
     "name": "stdout",
     "output_type": "stream",
     "text": [
      "False\n"
     ]
    }
   ],
   "source": [
    "print(df_conf[[\"Province/State\", \"Country/Region\"]].equals(df_recovered[[\"Province/State\", \"Country/Region\"]]))"
   ],
   "metadata": {
    "collapsed": false,
    "ExecuteTime": {
     "end_time": "2024-03-05T17:01:07.347514Z",
     "start_time": "2024-03-05T17:01:07.272052700Z"
    }
   },
   "id": "7246c9d028ece0c6",
   "execution_count": 18
  },
  {
   "cell_type": "code",
   "outputs": [],
   "source": [
    "df_conf_aggregated = df_conf.groupby('Province/State').sum().reset_index()\n",
    "df_deaths_aggregated = df_deaths.groupby('Province/State').sum().reset_index()"
   ],
   "metadata": {
    "collapsed": false,
    "ExecuteTime": {
     "end_time": "2024-03-05T17:01:07.412424200Z",
     "start_time": "2024-03-05T17:01:07.350472Z"
    }
   },
   "id": "5a1dc220b7be1e95",
   "execution_count": 19
  },
  {
   "cell_type": "code",
   "outputs": [],
   "source": [
    "df_combined = pd.merge(df_recovered, df_conf_aggregated, on=[\"Province/State\", \"Country/Region\"], suffixes=(\"_recovered\", \"_confirmed\"))\n",
    "df_combined = pd.merge(df_combined, df_deaths_aggregated, on=[\"Province/State\", \"Country/Region\"])"
   ],
   "metadata": {
    "collapsed": false,
    "ExecuteTime": {
     "end_time": "2024-03-05T17:01:07.471228800Z",
     "start_time": "2024-03-05T17:01:07.379326200Z"
    }
   },
   "id": "dde5b2a3cb014a55",
   "execution_count": 20
  },
  {
   "cell_type": "code",
   "outputs": [
    {
     "name": "stdout",
     "output_type": "stream",
     "text": [
      "False\n"
     ]
    }
   ],
   "source": [
    "print(df_combined.equals(df_conf_aggregated))"
   ],
   "metadata": {
    "collapsed": false,
    "ExecuteTime": {
     "end_time": "2024-03-05T17:01:07.511826300Z",
     "start_time": "2024-03-05T17:01:07.473961500Z"
    }
   },
   "id": "3a93c2021e334a55",
   "execution_count": 21
  },
  {
   "cell_type": "code",
   "outputs": [],
   "source": [
    "dates_conf = df_conf.columns[4:]\n",
    "dates_deaths = df_deaths.columns[4:]"
   ],
   "metadata": {
    "collapsed": false,
    "ExecuteTime": {
     "end_time": "2024-03-05T17:01:07.522750700Z",
     "start_time": "2024-03-05T17:01:07.493900500Z"
    }
   },
   "id": "db4c4fe25d8f3fdd",
   "execution_count": 22
  },
  {
   "cell_type": "code",
   "outputs": [
    {
     "name": "stdout",
     "output_type": "stream",
     "text": [
      "Index(['1/22/20', '1/23/20', '1/24/20', '1/25/20', '1/26/20', '1/27/20',\n",
      "       '1/28/20', '1/29/20', '1/30/20', '1/31/20',\n",
      "       ...\n",
      "       '5/20/21', '5/21/21', '5/22/21', '5/23/21', '5/24/21', '5/25/21',\n",
      "       '5/26/21', '5/27/21', '5/28/21', '5/29/21'],\n",
      "      dtype='object', length=494)\n",
      "Index(['1/22/20', '1/23/20', '1/24/20', '1/25/20', '1/26/20', '1/27/20',\n",
      "       '1/28/20', '1/29/20', '1/30/20', '1/31/20',\n",
      "       ...\n",
      "       '5/20/21', '5/21/21', '5/22/21', '5/23/21', '5/24/21', '5/25/21',\n",
      "       '5/26/21', '5/27/21', '5/28/21', '5/29/21'],\n",
      "      dtype='object', length=494)\n"
     ]
    }
   ],
   "source": [
    "print(dates_conf)\n",
    "print(dates_deaths)"
   ],
   "metadata": {
    "collapsed": false,
    "ExecuteTime": {
     "end_time": "2024-03-05T17:01:07.563740300Z",
     "start_time": "2024-03-05T17:01:07.526841Z"
    }
   },
   "id": "8b15f907a7211842",
   "execution_count": 23
  },
  {
   "cell_type": "code",
   "outputs": [
    {
     "name": "stdout",
     "output_type": "stream",
     "text": [
      "Oui\n"
     ]
    }
   ],
   "source": [
    "if dates_conf.equals(dates_deaths):\n",
    "    print(\"Oui\")\n",
    "else:\n",
    "    print(\"OUUUFFF\")"
   ],
   "metadata": {
    "collapsed": false,
    "ExecuteTime": {
     "end_time": "2024-03-05T17:01:07.586661300Z",
     "start_time": "2024-03-05T17:01:07.553782500Z"
    }
   },
   "id": "a07b7965447f2eb0",
   "execution_count": 24
  },
  {
   "cell_type": "code",
   "outputs": [],
   "source": [
    "df_conf_melted = df_conf.melt(id_vars=['Province/State', 'Country/Region', 'Lat', 'Long'], value_vars=dates_conf ,var_name='Date', value_name='Confirmed')\n",
    "\n",
    "df_deaths_melted = df_deaths.melt(id_vars=[\"Province/State\", \"Country/Region\", 'Lat', 'Long'], value_vars=dates_deaths, var_name='Date', value_name='Deaths')"
   ],
   "metadata": {
    "collapsed": false,
    "ExecuteTime": {
     "end_time": "2024-03-05T17:01:07.659173500Z",
     "start_time": "2024-03-05T17:01:07.591645100Z"
    }
   },
   "id": "c0b8a3ae70c5ab5b",
   "execution_count": 25
  },
  {
   "cell_type": "code",
   "outputs": [
    {
     "data": {
      "text/plain": "                      Province/State      Country/Region        Lat  \\\n0                            Alberta              Canada  53.933300   \n1                           Anguilla      United Kingdom  18.220600   \n2                              Anhui               China  31.825700   \n3                              Aruba         Netherlands  12.521100   \n4       Australian Capital Territory           Australia -35.473500   \n...                              ...                 ...        ...   \n136339                           NaN             Vietnam  14.058324   \n136340                           NaN  West Bank and Gaza  31.952200   \n136341                           NaN               Yemen  15.552727   \n136342                           NaN              Zambia -13.133897   \n136343                           NaN            Zimbabwe -19.015438   \n\n              Long     Date  Confirmed  \n0      -116.576500  1/22/20          0  \n1       -63.068600  1/22/20          0  \n2       117.226400  1/22/20          1  \n3       -69.968300  1/22/20          0  \n4       149.012400  1/22/20          0  \n...            ...      ...        ...  \n136339  108.277199  5/29/21       6908  \n136340   35.233200  5/29/21     307838  \n136341   48.516388  5/29/21       6731  \n136342   27.849332  5/29/21      94751  \n136343   29.154857  5/29/21      38933  \n\n[136344 rows x 6 columns]",
      "text/html": "<div>\n<style scoped>\n    .dataframe tbody tr th:only-of-type {\n        vertical-align: middle;\n    }\n\n    .dataframe tbody tr th {\n        vertical-align: top;\n    }\n\n    .dataframe thead th {\n        text-align: right;\n    }\n</style>\n<table border=\"1\" class=\"dataframe\">\n  <thead>\n    <tr style=\"text-align: right;\">\n      <th></th>\n      <th>Province/State</th>\n      <th>Country/Region</th>\n      <th>Lat</th>\n      <th>Long</th>\n      <th>Date</th>\n      <th>Confirmed</th>\n    </tr>\n  </thead>\n  <tbody>\n    <tr>\n      <th>0</th>\n      <td>Alberta</td>\n      <td>Canada</td>\n      <td>53.933300</td>\n      <td>-116.576500</td>\n      <td>1/22/20</td>\n      <td>0</td>\n    </tr>\n    <tr>\n      <th>1</th>\n      <td>Anguilla</td>\n      <td>United Kingdom</td>\n      <td>18.220600</td>\n      <td>-63.068600</td>\n      <td>1/22/20</td>\n      <td>0</td>\n    </tr>\n    <tr>\n      <th>2</th>\n      <td>Anhui</td>\n      <td>China</td>\n      <td>31.825700</td>\n      <td>117.226400</td>\n      <td>1/22/20</td>\n      <td>1</td>\n    </tr>\n    <tr>\n      <th>3</th>\n      <td>Aruba</td>\n      <td>Netherlands</td>\n      <td>12.521100</td>\n      <td>-69.968300</td>\n      <td>1/22/20</td>\n      <td>0</td>\n    </tr>\n    <tr>\n      <th>4</th>\n      <td>Australian Capital Territory</td>\n      <td>Australia</td>\n      <td>-35.473500</td>\n      <td>149.012400</td>\n      <td>1/22/20</td>\n      <td>0</td>\n    </tr>\n    <tr>\n      <th>...</th>\n      <td>...</td>\n      <td>...</td>\n      <td>...</td>\n      <td>...</td>\n      <td>...</td>\n      <td>...</td>\n    </tr>\n    <tr>\n      <th>136339</th>\n      <td>NaN</td>\n      <td>Vietnam</td>\n      <td>14.058324</td>\n      <td>108.277199</td>\n      <td>5/29/21</td>\n      <td>6908</td>\n    </tr>\n    <tr>\n      <th>136340</th>\n      <td>NaN</td>\n      <td>West Bank and Gaza</td>\n      <td>31.952200</td>\n      <td>35.233200</td>\n      <td>5/29/21</td>\n      <td>307838</td>\n    </tr>\n    <tr>\n      <th>136341</th>\n      <td>NaN</td>\n      <td>Yemen</td>\n      <td>15.552727</td>\n      <td>48.516388</td>\n      <td>5/29/21</td>\n      <td>6731</td>\n    </tr>\n    <tr>\n      <th>136342</th>\n      <td>NaN</td>\n      <td>Zambia</td>\n      <td>-13.133897</td>\n      <td>27.849332</td>\n      <td>5/29/21</td>\n      <td>94751</td>\n    </tr>\n    <tr>\n      <th>136343</th>\n      <td>NaN</td>\n      <td>Zimbabwe</td>\n      <td>-19.015438</td>\n      <td>29.154857</td>\n      <td>5/29/21</td>\n      <td>38933</td>\n    </tr>\n  </tbody>\n</table>\n<p>136344 rows × 6 columns</p>\n</div>"
     },
     "execution_count": 26,
     "metadata": {},
     "output_type": "execute_result"
    }
   ],
   "source": [
    "df_conf_melted"
   ],
   "metadata": {
    "collapsed": false,
    "ExecuteTime": {
     "end_time": "2024-03-05T17:01:07.686509100Z",
     "start_time": "2024-03-05T17:01:07.648685700Z"
    }
   },
   "id": "dc7a35ad5cf3d62c",
   "execution_count": 26
  },
  {
   "cell_type": "code",
   "outputs": [
    {
     "data": {
      "text/plain": "                      Province/State      Country/Region        Lat  \\\n0                            Alberta              Canada  53.933300   \n1                           Anguilla      United Kingdom  18.220600   \n2                              Anhui               China  31.825700   \n3                              Aruba         Netherlands  12.521100   \n4       Australian Capital Territory           Australia -35.473500   \n...                              ...                 ...        ...   \n136339                           NaN             Vietnam  14.058324   \n136340                           NaN  West Bank and Gaza  31.952200   \n136341                           NaN               Yemen  15.552727   \n136342                           NaN              Zambia -13.133897   \n136343                           NaN            Zimbabwe -19.015438   \n\n              Long     Date  Deaths  \n0      -116.576500  1/22/20       0  \n1       -63.068600  1/22/20       0  \n2       117.226400  1/22/20       0  \n3       -69.968300  1/22/20       0  \n4       149.012400  1/22/20       0  \n...            ...      ...     ...  \n136339  108.277199  5/29/21      47  \n136340   35.233200  5/29/21    3492  \n136341   48.516388  5/29/21    1319  \n136342   27.849332  5/29/21    1276  \n136343   29.154857  5/29/21    1594  \n\n[136344 rows x 6 columns]",
      "text/html": "<div>\n<style scoped>\n    .dataframe tbody tr th:only-of-type {\n        vertical-align: middle;\n    }\n\n    .dataframe tbody tr th {\n        vertical-align: top;\n    }\n\n    .dataframe thead th {\n        text-align: right;\n    }\n</style>\n<table border=\"1\" class=\"dataframe\">\n  <thead>\n    <tr style=\"text-align: right;\">\n      <th></th>\n      <th>Province/State</th>\n      <th>Country/Region</th>\n      <th>Lat</th>\n      <th>Long</th>\n      <th>Date</th>\n      <th>Deaths</th>\n    </tr>\n  </thead>\n  <tbody>\n    <tr>\n      <th>0</th>\n      <td>Alberta</td>\n      <td>Canada</td>\n      <td>53.933300</td>\n      <td>-116.576500</td>\n      <td>1/22/20</td>\n      <td>0</td>\n    </tr>\n    <tr>\n      <th>1</th>\n      <td>Anguilla</td>\n      <td>United Kingdom</td>\n      <td>18.220600</td>\n      <td>-63.068600</td>\n      <td>1/22/20</td>\n      <td>0</td>\n    </tr>\n    <tr>\n      <th>2</th>\n      <td>Anhui</td>\n      <td>China</td>\n      <td>31.825700</td>\n      <td>117.226400</td>\n      <td>1/22/20</td>\n      <td>0</td>\n    </tr>\n    <tr>\n      <th>3</th>\n      <td>Aruba</td>\n      <td>Netherlands</td>\n      <td>12.521100</td>\n      <td>-69.968300</td>\n      <td>1/22/20</td>\n      <td>0</td>\n    </tr>\n    <tr>\n      <th>4</th>\n      <td>Australian Capital Territory</td>\n      <td>Australia</td>\n      <td>-35.473500</td>\n      <td>149.012400</td>\n      <td>1/22/20</td>\n      <td>0</td>\n    </tr>\n    <tr>\n      <th>...</th>\n      <td>...</td>\n      <td>...</td>\n      <td>...</td>\n      <td>...</td>\n      <td>...</td>\n      <td>...</td>\n    </tr>\n    <tr>\n      <th>136339</th>\n      <td>NaN</td>\n      <td>Vietnam</td>\n      <td>14.058324</td>\n      <td>108.277199</td>\n      <td>5/29/21</td>\n      <td>47</td>\n    </tr>\n    <tr>\n      <th>136340</th>\n      <td>NaN</td>\n      <td>West Bank and Gaza</td>\n      <td>31.952200</td>\n      <td>35.233200</td>\n      <td>5/29/21</td>\n      <td>3492</td>\n    </tr>\n    <tr>\n      <th>136341</th>\n      <td>NaN</td>\n      <td>Yemen</td>\n      <td>15.552727</td>\n      <td>48.516388</td>\n      <td>5/29/21</td>\n      <td>1319</td>\n    </tr>\n    <tr>\n      <th>136342</th>\n      <td>NaN</td>\n      <td>Zambia</td>\n      <td>-13.133897</td>\n      <td>27.849332</td>\n      <td>5/29/21</td>\n      <td>1276</td>\n    </tr>\n    <tr>\n      <th>136343</th>\n      <td>NaN</td>\n      <td>Zimbabwe</td>\n      <td>-19.015438</td>\n      <td>29.154857</td>\n      <td>5/29/21</td>\n      <td>1594</td>\n    </tr>\n  </tbody>\n</table>\n<p>136344 rows × 6 columns</p>\n</div>"
     },
     "execution_count": 27,
     "metadata": {},
     "output_type": "execute_result"
    }
   ],
   "source": [
    "df_deaths_melted"
   ],
   "metadata": {
    "collapsed": false,
    "ExecuteTime": {
     "end_time": "2024-03-05T17:01:07.696469600Z",
     "start_time": "2024-03-05T17:01:07.659173500Z"
    }
   },
   "id": "7134d94ec946967",
   "execution_count": 27
  },
  {
   "cell_type": "code",
   "outputs": [
    {
     "name": "stdout",
     "output_type": "stream",
     "text": [
      "(136344, 6)\n",
      "(136344, 6)\n"
     ]
    }
   ],
   "source": [
    "print(df_deaths_melted.shape)\n",
    "print(df_conf_melted.shape)"
   ],
   "metadata": {
    "collapsed": false,
    "ExecuteTime": {
     "end_time": "2024-03-05T17:01:07.733821200Z",
     "start_time": "2024-03-05T17:01:07.670807400Z"
    }
   },
   "id": "330cc6662ebc31f0",
   "execution_count": 28
  },
  {
   "cell_type": "code",
   "outputs": [
    {
     "data": {
      "text/plain": "                      Province/State      Country/Region        Lat  \\\n0                            Alberta              Canada  53.933300   \n1                           Anguilla      United Kingdom  18.220600   \n2                              Anhui               China  31.825700   \n3                              Aruba         Netherlands  12.521100   \n4       Australian Capital Territory           Australia -35.473500   \n...                              ...                 ...        ...   \n136339                           NaN             Vietnam  14.058324   \n136340                           NaN  West Bank and Gaza  31.952200   \n136341                           NaN               Yemen  15.552727   \n136342                           NaN              Zambia -13.133897   \n136343                           NaN            Zimbabwe -19.015438   \n\n              Long     Date  Confirmed  Deaths  \n0      -116.576500  1/22/20          0       0  \n1       -63.068600  1/22/20          0       0  \n2       117.226400  1/22/20          1       0  \n3       -69.968300  1/22/20          0       0  \n4       149.012400  1/22/20          0       0  \n...            ...      ...        ...     ...  \n136339  108.277199  5/29/21       6908      47  \n136340   35.233200  5/29/21     307838    3492  \n136341   48.516388  5/29/21       6731    1319  \n136342   27.849332  5/29/21      94751    1276  \n136343   29.154857  5/29/21      38933    1594  \n\n[136344 rows x 7 columns]",
      "text/html": "<div>\n<style scoped>\n    .dataframe tbody tr th:only-of-type {\n        vertical-align: middle;\n    }\n\n    .dataframe tbody tr th {\n        vertical-align: top;\n    }\n\n    .dataframe thead th {\n        text-align: right;\n    }\n</style>\n<table border=\"1\" class=\"dataframe\">\n  <thead>\n    <tr style=\"text-align: right;\">\n      <th></th>\n      <th>Province/State</th>\n      <th>Country/Region</th>\n      <th>Lat</th>\n      <th>Long</th>\n      <th>Date</th>\n      <th>Confirmed</th>\n      <th>Deaths</th>\n    </tr>\n  </thead>\n  <tbody>\n    <tr>\n      <th>0</th>\n      <td>Alberta</td>\n      <td>Canada</td>\n      <td>53.933300</td>\n      <td>-116.576500</td>\n      <td>1/22/20</td>\n      <td>0</td>\n      <td>0</td>\n    </tr>\n    <tr>\n      <th>1</th>\n      <td>Anguilla</td>\n      <td>United Kingdom</td>\n      <td>18.220600</td>\n      <td>-63.068600</td>\n      <td>1/22/20</td>\n      <td>0</td>\n      <td>0</td>\n    </tr>\n    <tr>\n      <th>2</th>\n      <td>Anhui</td>\n      <td>China</td>\n      <td>31.825700</td>\n      <td>117.226400</td>\n      <td>1/22/20</td>\n      <td>1</td>\n      <td>0</td>\n    </tr>\n    <tr>\n      <th>3</th>\n      <td>Aruba</td>\n      <td>Netherlands</td>\n      <td>12.521100</td>\n      <td>-69.968300</td>\n      <td>1/22/20</td>\n      <td>0</td>\n      <td>0</td>\n    </tr>\n    <tr>\n      <th>4</th>\n      <td>Australian Capital Territory</td>\n      <td>Australia</td>\n      <td>-35.473500</td>\n      <td>149.012400</td>\n      <td>1/22/20</td>\n      <td>0</td>\n      <td>0</td>\n    </tr>\n    <tr>\n      <th>...</th>\n      <td>...</td>\n      <td>...</td>\n      <td>...</td>\n      <td>...</td>\n      <td>...</td>\n      <td>...</td>\n      <td>...</td>\n    </tr>\n    <tr>\n      <th>136339</th>\n      <td>NaN</td>\n      <td>Vietnam</td>\n      <td>14.058324</td>\n      <td>108.277199</td>\n      <td>5/29/21</td>\n      <td>6908</td>\n      <td>47</td>\n    </tr>\n    <tr>\n      <th>136340</th>\n      <td>NaN</td>\n      <td>West Bank and Gaza</td>\n      <td>31.952200</td>\n      <td>35.233200</td>\n      <td>5/29/21</td>\n      <td>307838</td>\n      <td>3492</td>\n    </tr>\n    <tr>\n      <th>136341</th>\n      <td>NaN</td>\n      <td>Yemen</td>\n      <td>15.552727</td>\n      <td>48.516388</td>\n      <td>5/29/21</td>\n      <td>6731</td>\n      <td>1319</td>\n    </tr>\n    <tr>\n      <th>136342</th>\n      <td>NaN</td>\n      <td>Zambia</td>\n      <td>-13.133897</td>\n      <td>27.849332</td>\n      <td>5/29/21</td>\n      <td>94751</td>\n      <td>1276</td>\n    </tr>\n    <tr>\n      <th>136343</th>\n      <td>NaN</td>\n      <td>Zimbabwe</td>\n      <td>-19.015438</td>\n      <td>29.154857</td>\n      <td>5/29/21</td>\n      <td>38933</td>\n      <td>1594</td>\n    </tr>\n  </tbody>\n</table>\n<p>136344 rows × 7 columns</p>\n</div>"
     },
     "execution_count": 29,
     "metadata": {},
     "output_type": "execute_result"
    }
   ],
   "source": [
    "df_combined = pd.concat([df_conf_melted,\n",
    "                        df_deaths_melted[\"Deaths\"]], axis=1, sort=False)\n",
    "df_combined"
   ],
   "metadata": {
    "collapsed": false,
    "ExecuteTime": {
     "end_time": "2024-03-05T17:01:07.734807500Z",
     "start_time": "2024-03-05T17:01:07.673462Z"
    }
   },
   "id": "38a564d5a6454b07",
   "execution_count": 29
  },
  {
   "cell_type": "code",
   "outputs": [
    {
     "data": {
      "text/plain": "                      Province/State      Country/Region        Lat  \\\n0                            Alberta              Canada  53.933300   \n1                           Anguilla      United Kingdom  18.220600   \n2                              Anhui               China  31.825700   \n3                              Aruba         Netherlands  12.521100   \n4       Australian Capital Territory           Australia -35.473500   \n...                              ...                 ...        ...   \n136339                             0             Vietnam  14.058324   \n136340                             0  West Bank and Gaza  31.952200   \n136341                             0               Yemen  15.552727   \n136342                             0              Zambia -13.133897   \n136343                             0            Zimbabwe -19.015438   \n\n              Long     Date  Confirmed  Deaths  \n0      -116.576500  1/22/20          0       0  \n1       -63.068600  1/22/20          0       0  \n2       117.226400  1/22/20          1       0  \n3       -69.968300  1/22/20          0       0  \n4       149.012400  1/22/20          0       0  \n...            ...      ...        ...     ...  \n136339  108.277199  5/29/21       6908      47  \n136340   35.233200  5/29/21     307838    3492  \n136341   48.516388  5/29/21       6731    1319  \n136342   27.849332  5/29/21      94751    1276  \n136343   29.154857  5/29/21      38933    1594  \n\n[136344 rows x 7 columns]",
      "text/html": "<div>\n<style scoped>\n    .dataframe tbody tr th:only-of-type {\n        vertical-align: middle;\n    }\n\n    .dataframe tbody tr th {\n        vertical-align: top;\n    }\n\n    .dataframe thead th {\n        text-align: right;\n    }\n</style>\n<table border=\"1\" class=\"dataframe\">\n  <thead>\n    <tr style=\"text-align: right;\">\n      <th></th>\n      <th>Province/State</th>\n      <th>Country/Region</th>\n      <th>Lat</th>\n      <th>Long</th>\n      <th>Date</th>\n      <th>Confirmed</th>\n      <th>Deaths</th>\n    </tr>\n  </thead>\n  <tbody>\n    <tr>\n      <th>0</th>\n      <td>Alberta</td>\n      <td>Canada</td>\n      <td>53.933300</td>\n      <td>-116.576500</td>\n      <td>1/22/20</td>\n      <td>0</td>\n      <td>0</td>\n    </tr>\n    <tr>\n      <th>1</th>\n      <td>Anguilla</td>\n      <td>United Kingdom</td>\n      <td>18.220600</td>\n      <td>-63.068600</td>\n      <td>1/22/20</td>\n      <td>0</td>\n      <td>0</td>\n    </tr>\n    <tr>\n      <th>2</th>\n      <td>Anhui</td>\n      <td>China</td>\n      <td>31.825700</td>\n      <td>117.226400</td>\n      <td>1/22/20</td>\n      <td>1</td>\n      <td>0</td>\n    </tr>\n    <tr>\n      <th>3</th>\n      <td>Aruba</td>\n      <td>Netherlands</td>\n      <td>12.521100</td>\n      <td>-69.968300</td>\n      <td>1/22/20</td>\n      <td>0</td>\n      <td>0</td>\n    </tr>\n    <tr>\n      <th>4</th>\n      <td>Australian Capital Territory</td>\n      <td>Australia</td>\n      <td>-35.473500</td>\n      <td>149.012400</td>\n      <td>1/22/20</td>\n      <td>0</td>\n      <td>0</td>\n    </tr>\n    <tr>\n      <th>...</th>\n      <td>...</td>\n      <td>...</td>\n      <td>...</td>\n      <td>...</td>\n      <td>...</td>\n      <td>...</td>\n      <td>...</td>\n    </tr>\n    <tr>\n      <th>136339</th>\n      <td>0</td>\n      <td>Vietnam</td>\n      <td>14.058324</td>\n      <td>108.277199</td>\n      <td>5/29/21</td>\n      <td>6908</td>\n      <td>47</td>\n    </tr>\n    <tr>\n      <th>136340</th>\n      <td>0</td>\n      <td>West Bank and Gaza</td>\n      <td>31.952200</td>\n      <td>35.233200</td>\n      <td>5/29/21</td>\n      <td>307838</td>\n      <td>3492</td>\n    </tr>\n    <tr>\n      <th>136341</th>\n      <td>0</td>\n      <td>Yemen</td>\n      <td>15.552727</td>\n      <td>48.516388</td>\n      <td>5/29/21</td>\n      <td>6731</td>\n      <td>1319</td>\n    </tr>\n    <tr>\n      <th>136342</th>\n      <td>0</td>\n      <td>Zambia</td>\n      <td>-13.133897</td>\n      <td>27.849332</td>\n      <td>5/29/21</td>\n      <td>94751</td>\n      <td>1276</td>\n    </tr>\n    <tr>\n      <th>136343</th>\n      <td>0</td>\n      <td>Zimbabwe</td>\n      <td>-19.015438</td>\n      <td>29.154857</td>\n      <td>5/29/21</td>\n      <td>38933</td>\n      <td>1594</td>\n    </tr>\n  </tbody>\n</table>\n<p>136344 rows × 7 columns</p>\n</div>"
     },
     "execution_count": 30,
     "metadata": {},
     "output_type": "execute_result"
    }
   ],
   "source": [
    "df_combined.fillna(0, inplace=True)\n",
    "df_combined"
   ],
   "metadata": {
    "collapsed": false,
    "ExecuteTime": {
     "end_time": "2024-03-05T17:01:07.836016700Z",
     "start_time": "2024-03-05T17:01:07.698462800Z"
    }
   },
   "id": "29f07b669c8731b9",
   "execution_count": 30
  },
  {
   "cell_type": "code",
   "outputs": [
    {
     "data": {
      "text/plain": "Province/State     object\nCountry/Region     object\nLat               float64\nLong              float64\nDate               object\nConfirmed           int64\nDeaths              int64\ndtype: object"
     },
     "execution_count": 31,
     "metadata": {},
     "output_type": "execute_result"
    }
   ],
   "source": [
    "df_combined.dtypes"
   ],
   "metadata": {
    "collapsed": false,
    "ExecuteTime": {
     "end_time": "2024-03-05T17:01:07.839956900Z",
     "start_time": "2024-03-05T17:01:07.740787700Z"
    }
   },
   "id": "ba74cabce93f4e5c",
   "execution_count": 31
  },
  {
   "cell_type": "code",
   "outputs": [
    {
     "data": {
      "text/plain": "                      Province/State      Country/Region        Lat  \\\n0                            Alberta              Canada  53.933300   \n1                           Anguilla      United Kingdom  18.220600   \n2                              Anhui               China  31.825700   \n3                              Aruba         Netherlands  12.521100   \n4       Australian Capital Territory           Australia -35.473500   \n...                              ...                 ...        ...   \n136339                             0             Vietnam  14.058324   \n136340                             0  West Bank and Gaza  31.952200   \n136341                             0               Yemen  15.552727   \n136342                             0              Zambia -13.133897   \n136343                             0            Zimbabwe -19.015438   \n\n              Long     Date  Confirmed  Deaths  Percentage  \n0      -116.576500  1/22/20          0       0    0.000000  \n1       -63.068600  1/22/20          0       0    0.000000  \n2       117.226400  1/22/20          1       0    0.000000  \n3       -69.968300  1/22/20          0       0    0.000000  \n4       149.012400  1/22/20          0       0    0.000000  \n...            ...      ...        ...     ...         ...  \n136339  108.277199  5/29/21       6908      47    0.006804  \n136340   35.233200  5/29/21     307838    3492    0.011344  \n136341   48.516388  5/29/21       6731    1319    0.195959  \n136342   27.849332  5/29/21      94751    1276    0.013467  \n136343   29.154857  5/29/21      38933    1594    0.040942  \n\n[136344 rows x 8 columns]",
      "text/html": "<div>\n<style scoped>\n    .dataframe tbody tr th:only-of-type {\n        vertical-align: middle;\n    }\n\n    .dataframe tbody tr th {\n        vertical-align: top;\n    }\n\n    .dataframe thead th {\n        text-align: right;\n    }\n</style>\n<table border=\"1\" class=\"dataframe\">\n  <thead>\n    <tr style=\"text-align: right;\">\n      <th></th>\n      <th>Province/State</th>\n      <th>Country/Region</th>\n      <th>Lat</th>\n      <th>Long</th>\n      <th>Date</th>\n      <th>Confirmed</th>\n      <th>Deaths</th>\n      <th>Percentage</th>\n    </tr>\n  </thead>\n  <tbody>\n    <tr>\n      <th>0</th>\n      <td>Alberta</td>\n      <td>Canada</td>\n      <td>53.933300</td>\n      <td>-116.576500</td>\n      <td>1/22/20</td>\n      <td>0</td>\n      <td>0</td>\n      <td>0.000000</td>\n    </tr>\n    <tr>\n      <th>1</th>\n      <td>Anguilla</td>\n      <td>United Kingdom</td>\n      <td>18.220600</td>\n      <td>-63.068600</td>\n      <td>1/22/20</td>\n      <td>0</td>\n      <td>0</td>\n      <td>0.000000</td>\n    </tr>\n    <tr>\n      <th>2</th>\n      <td>Anhui</td>\n      <td>China</td>\n      <td>31.825700</td>\n      <td>117.226400</td>\n      <td>1/22/20</td>\n      <td>1</td>\n      <td>0</td>\n      <td>0.000000</td>\n    </tr>\n    <tr>\n      <th>3</th>\n      <td>Aruba</td>\n      <td>Netherlands</td>\n      <td>12.521100</td>\n      <td>-69.968300</td>\n      <td>1/22/20</td>\n      <td>0</td>\n      <td>0</td>\n      <td>0.000000</td>\n    </tr>\n    <tr>\n      <th>4</th>\n      <td>Australian Capital Territory</td>\n      <td>Australia</td>\n      <td>-35.473500</td>\n      <td>149.012400</td>\n      <td>1/22/20</td>\n      <td>0</td>\n      <td>0</td>\n      <td>0.000000</td>\n    </tr>\n    <tr>\n      <th>...</th>\n      <td>...</td>\n      <td>...</td>\n      <td>...</td>\n      <td>...</td>\n      <td>...</td>\n      <td>...</td>\n      <td>...</td>\n      <td>...</td>\n    </tr>\n    <tr>\n      <th>136339</th>\n      <td>0</td>\n      <td>Vietnam</td>\n      <td>14.058324</td>\n      <td>108.277199</td>\n      <td>5/29/21</td>\n      <td>6908</td>\n      <td>47</td>\n      <td>0.006804</td>\n    </tr>\n    <tr>\n      <th>136340</th>\n      <td>0</td>\n      <td>West Bank and Gaza</td>\n      <td>31.952200</td>\n      <td>35.233200</td>\n      <td>5/29/21</td>\n      <td>307838</td>\n      <td>3492</td>\n      <td>0.011344</td>\n    </tr>\n    <tr>\n      <th>136341</th>\n      <td>0</td>\n      <td>Yemen</td>\n      <td>15.552727</td>\n      <td>48.516388</td>\n      <td>5/29/21</td>\n      <td>6731</td>\n      <td>1319</td>\n      <td>0.195959</td>\n    </tr>\n    <tr>\n      <th>136342</th>\n      <td>0</td>\n      <td>Zambia</td>\n      <td>-13.133897</td>\n      <td>27.849332</td>\n      <td>5/29/21</td>\n      <td>94751</td>\n      <td>1276</td>\n      <td>0.013467</td>\n    </tr>\n    <tr>\n      <th>136343</th>\n      <td>0</td>\n      <td>Zimbabwe</td>\n      <td>-19.015438</td>\n      <td>29.154857</td>\n      <td>5/29/21</td>\n      <td>38933</td>\n      <td>1594</td>\n      <td>0.040942</td>\n    </tr>\n  </tbody>\n</table>\n<p>136344 rows × 8 columns</p>\n</div>"
     },
     "execution_count": 33,
     "metadata": {},
     "output_type": "execute_result"
    }
   ],
   "source": [
    "df_combined[\"Percentage\"] = df_combined[\"Deaths\"]/df_combined[\"Confirmed\"]\n",
    "df_combined.fillna(0, inplace=True)\n",
    "df_combined"
   ],
   "metadata": {
    "collapsed": false,
    "ExecuteTime": {
     "end_time": "2024-03-05T17:04:41.373509Z",
     "start_time": "2024-03-05T17:04:41.337157100Z"
    }
   },
   "id": "703d794e01557e03",
   "execution_count": 33
  },
  {
   "cell_type": "code",
   "outputs": [
    {
     "data": {
      "text/plain": "                      Province/State      Country/Region        Lat  \\\n0                            Alberta              Canada  53.933300   \n1                           Anguilla      United Kingdom  18.220600   \n2                              Anhui               China  31.825700   \n3                              Aruba         Netherlands  12.521100   \n4       Australian Capital Territory           Australia -35.473500   \n...                              ...                 ...        ...   \n136339                             0             Vietnam  14.058324   \n136340                             0  West Bank and Gaza  31.952200   \n136341                             0               Yemen  15.552727   \n136342                             0              Zambia -13.133897   \n136343                             0            Zimbabwe -19.015438   \n\n              Long        Date  Confirmed  Deaths  Percentage  \n0      -116.576500  2020-01-22          0       0    0.000000  \n1       -63.068600  2020-01-22          0       0    0.000000  \n2       117.226400  2020-01-22          1       0    0.000000  \n3       -69.968300  2020-01-22          0       0    0.000000  \n4       149.012400  2020-01-22          0       0    0.000000  \n...            ...         ...        ...     ...         ...  \n136339  108.277199  2021-05-29       6908      47    0.006804  \n136340   35.233200  2021-05-29     307838    3492    0.011344  \n136341   48.516388  2021-05-29       6731    1319    0.195959  \n136342   27.849332  2021-05-29      94751    1276    0.013467  \n136343   29.154857  2021-05-29      38933    1594    0.040942  \n\n[136344 rows x 8 columns]",
      "text/html": "<div>\n<style scoped>\n    .dataframe tbody tr th:only-of-type {\n        vertical-align: middle;\n    }\n\n    .dataframe tbody tr th {\n        vertical-align: top;\n    }\n\n    .dataframe thead th {\n        text-align: right;\n    }\n</style>\n<table border=\"1\" class=\"dataframe\">\n  <thead>\n    <tr style=\"text-align: right;\">\n      <th></th>\n      <th>Province/State</th>\n      <th>Country/Region</th>\n      <th>Lat</th>\n      <th>Long</th>\n      <th>Date</th>\n      <th>Confirmed</th>\n      <th>Deaths</th>\n      <th>Percentage</th>\n    </tr>\n  </thead>\n  <tbody>\n    <tr>\n      <th>0</th>\n      <td>Alberta</td>\n      <td>Canada</td>\n      <td>53.933300</td>\n      <td>-116.576500</td>\n      <td>2020-01-22</td>\n      <td>0</td>\n      <td>0</td>\n      <td>0.000000</td>\n    </tr>\n    <tr>\n      <th>1</th>\n      <td>Anguilla</td>\n      <td>United Kingdom</td>\n      <td>18.220600</td>\n      <td>-63.068600</td>\n      <td>2020-01-22</td>\n      <td>0</td>\n      <td>0</td>\n      <td>0.000000</td>\n    </tr>\n    <tr>\n      <th>2</th>\n      <td>Anhui</td>\n      <td>China</td>\n      <td>31.825700</td>\n      <td>117.226400</td>\n      <td>2020-01-22</td>\n      <td>1</td>\n      <td>0</td>\n      <td>0.000000</td>\n    </tr>\n    <tr>\n      <th>3</th>\n      <td>Aruba</td>\n      <td>Netherlands</td>\n      <td>12.521100</td>\n      <td>-69.968300</td>\n      <td>2020-01-22</td>\n      <td>0</td>\n      <td>0</td>\n      <td>0.000000</td>\n    </tr>\n    <tr>\n      <th>4</th>\n      <td>Australian Capital Territory</td>\n      <td>Australia</td>\n      <td>-35.473500</td>\n      <td>149.012400</td>\n      <td>2020-01-22</td>\n      <td>0</td>\n      <td>0</td>\n      <td>0.000000</td>\n    </tr>\n    <tr>\n      <th>...</th>\n      <td>...</td>\n      <td>...</td>\n      <td>...</td>\n      <td>...</td>\n      <td>...</td>\n      <td>...</td>\n      <td>...</td>\n      <td>...</td>\n    </tr>\n    <tr>\n      <th>136339</th>\n      <td>0</td>\n      <td>Vietnam</td>\n      <td>14.058324</td>\n      <td>108.277199</td>\n      <td>2021-05-29</td>\n      <td>6908</td>\n      <td>47</td>\n      <td>0.006804</td>\n    </tr>\n    <tr>\n      <th>136340</th>\n      <td>0</td>\n      <td>West Bank and Gaza</td>\n      <td>31.952200</td>\n      <td>35.233200</td>\n      <td>2021-05-29</td>\n      <td>307838</td>\n      <td>3492</td>\n      <td>0.011344</td>\n    </tr>\n    <tr>\n      <th>136341</th>\n      <td>0</td>\n      <td>Yemen</td>\n      <td>15.552727</td>\n      <td>48.516388</td>\n      <td>2021-05-29</td>\n      <td>6731</td>\n      <td>1319</td>\n      <td>0.195959</td>\n    </tr>\n    <tr>\n      <th>136342</th>\n      <td>0</td>\n      <td>Zambia</td>\n      <td>-13.133897</td>\n      <td>27.849332</td>\n      <td>2021-05-29</td>\n      <td>94751</td>\n      <td>1276</td>\n      <td>0.013467</td>\n    </tr>\n    <tr>\n      <th>136343</th>\n      <td>0</td>\n      <td>Zimbabwe</td>\n      <td>-19.015438</td>\n      <td>29.154857</td>\n      <td>2021-05-29</td>\n      <td>38933</td>\n      <td>1594</td>\n      <td>0.040942</td>\n    </tr>\n  </tbody>\n</table>\n<p>136344 rows × 8 columns</p>\n</div>"
     },
     "execution_count": 41,
     "metadata": {},
     "output_type": "execute_result"
    }
   ],
   "source": [
    "import datetime\n",
    "\n",
    "def format_time(datetime_str):\n",
    "    a = datetime_str.strftime(\"%m/%d/%y\")\n",
    "    d = datetime.datetime.strptime(a, '%m/%d/%y')\n",
    "    return d.date()\n",
    "\n",
    "df_combined['Date'] = df_combined['Date'].apply(format_time)\n",
    "df_combined"
   ],
   "metadata": {
    "collapsed": false,
    "ExecuteTime": {
     "end_time": "2024-03-05T17:15:17.662951800Z",
     "start_time": "2024-03-05T17:15:16.711201100Z"
    }
   },
   "id": "56bfba93fef4dab6",
   "execution_count": 41
  },
  {
   "cell_type": "code",
   "outputs": [
    {
     "data": {
      "text/plain": "Province/State     object\nCountry/Region     object\nLat               float64\nLong              float64\nDate               object\nConfirmed           int64\nDeaths              int64\nPercentage        float64\ndtype: object"
     },
     "execution_count": 42,
     "metadata": {},
     "output_type": "execute_result"
    }
   ],
   "source": [
    "df_combined.dtypes"
   ],
   "metadata": {
    "collapsed": false,
    "ExecuteTime": {
     "end_time": "2024-03-05T17:15:35.712942300Z",
     "start_time": "2024-03-05T17:15:35.708353Z"
    }
   },
   "id": "cc72eb6a8fa3affc",
   "execution_count": 42
  },
  {
   "cell_type": "code",
   "outputs": [],
   "source": [],
   "metadata": {
    "collapsed": false
   },
   "id": "9ee2aa3466d7ab3"
  }
 ],
 "metadata": {
  "kernelspec": {
   "display_name": "Python 3",
   "language": "python",
   "name": "python3"
  },
  "language_info": {
   "codemirror_mode": {
    "name": "ipython",
    "version": 2
   },
   "file_extension": ".py",
   "mimetype": "text/x-python",
   "name": "python",
   "nbconvert_exporter": "python",
   "pygments_lexer": "ipython2",
   "version": "2.7.6"
  }
 },
 "nbformat": 4,
 "nbformat_minor": 5
}
